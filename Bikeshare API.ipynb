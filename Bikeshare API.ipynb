{
 "cells": [
  {
   "cell_type": "markdown",
   "id": "2723f7e7",
   "metadata": {},
   "source": [
    "**Nama: Elvi Khairunnisa**"
   ]
  },
  {
   "cell_type": "markdown",
   "id": "27a1a7cf",
   "metadata": {},
   "source": [
    "<br>"
   ]
  },
  {
   "cell_type": "markdown",
   "id": "62480ff6-d08f-4fbf-b4b7-a4d272c75fcb",
   "metadata": {},
   "source": [
    "Import Libraries"
   ]
  },
  {
   "cell_type": "code",
   "execution_count": 1,
   "id": "ee5b7119-68ca-4c52-aef2-7e55ae1e7b0c",
   "metadata": {},
   "outputs": [],
   "source": [
    "import sqlite3\n",
    "import requests\n",
    "from tqdm import tqdm\n",
    "\n",
    "from flask import Flask, request\n",
    "import json \n",
    "import numpy as np\n",
    "import pandas as pd"
   ]
  },
  {
   "cell_type": "markdown",
   "id": "86774391-698b-41d4-a2fa-c9943a8e1ded",
   "metadata": {},
   "source": [
    "# Introduction\n",
    "In most cases when we are running a business, there are a lot of data stakeholder outside our company. The problem is that we need to provide the access in a way that they will not break our security rules or concerns. One way to solve that is by creating an API for the database. In this project, we will introduce you on how python is used for data transaction management using Flask API. \n",
    "\n",
    "**Usecase**: Bikeshare App\\\n",
    "Have you ever rent a bike for faster mobility in town? In the past few years, this business once become a phenomenom. In Indonesia, there are lots of similar services, for example, the Jakarta government's \"GOWES\" bike sharing service that launcehd in July 2020. \n",
    "\n",
    "For the user perspective, the general journey is denoted as follows:\n",
    "- User scan the bike located at some bike station, sending the data to database as the intent of \"start riding\"\n",
    "- Once user has reached its destination station, he/she put back the bike, sending the data again to the database as the intent of \"finished riding\"\n",
    "\n",
    "For each activity, there are data transactions between user and database. And how do you think each user's phone communicate with the server for storing and receiving the data? Using API of course! \n",
    "\n",
    "We will later create a simplified version of the API service which handles data transactions and analysis. \n",
    "\n",
    "\n",
    "**Goals**: Make an API service to connect 3rd party user with data using HTTP request\n",
    "\n",
    "**End Product**: A Flask API which capable of doing: \n",
    "- Input new data to database\n",
    "- Read specific data from database\n",
    "- Get specific insight from data analysis process (ie: best performing stations)\n",
    "\n",
    "**Scoring Metrics**: \n",
    "\n",
    "1. 1 point - Created Flask App\n",
    "2. 2 poitns - Created functionality to read or get specific data from the database\n",
    "3. 4 points - Created functionality to input new data into each table for the databases\n",
    "4. 3 points - Created static endpoints which return analytical result (must be different from point 2,3)\n",
    "5. 3 points - Created dynamic endpoints which return analytical result (must be different from point 2,3,4)\n",
    "6. 3 points - Created POST endpoint which receive input data, then utilize it to get analytical result (must be different from point 2,3,4,5)\n",
    "\n",
    "**Tools**: \n",
    "- **Python** with **Jupyter Notebook**, installed with **required libraries**\n",
    "- **Visual Studio Code (VSCode)**: Recommended for writing application scripts\n",
    "- **TablePlus**: Recommended for easy database access and exploration\n",
    "- Postman: Optional for easy API testing\n"
   ]
  },
  {
   "cell_type": "markdown",
   "id": "7f0d31b3-764f-4d0a-941d-443c5a502e1f",
   "metadata": {},
   "source": [
    "# About the Data"
   ]
  },
  {
   "cell_type": "markdown",
   "id": "89ec6608-cf50-4f15-993c-99f186ece82c",
   "metadata": {},
   "source": [
    "The data that we will be using in this project is **[Austin Bike Share]()** dataset which contains information on bike trip start location, stop location, duration, type of bike share user in the city of Austin, Texas. Bike station location data is also provided. \n",
    "\n",
    "All the information is stored in a database called **austin_bikeshare.db**. However, we also provides the non existing data in csv files. These data then will be imported into the database using the API"
   ]
  },
  {
   "cell_type": "markdown",
   "id": "3c4833d3-015d-4f4a-b00d-21e00af777fc",
   "metadata": {},
   "source": [
    "Lists of files:\n",
    "- **austin_bikeshare.db**: The database, contains `trips` and `stations` table\n",
    "- **data/austin_bikeshare_stations.csv**: contains all the stations information which is not yet available in the database table\n",
    "- **data/austin_bikeshare_trips_2021.csv**: contains all 2021 data which is not yet available in the database table"
   ]
  },
  {
   "cell_type": "code",
   "execution_count": 2,
   "id": "52e3d146-1a21-4b1a-9ffc-817f4f084375",
   "metadata": {},
   "outputs": [],
   "source": [
    "# Reading the csv data\n",
    "trips = pd.read_csv('data/austin_bikeshare_trips_2021.csv')\n",
    "stations = pd.read_csv('data/austin_bikeshare_stations.csv')"
   ]
  },
  {
   "cell_type": "markdown",
   "id": "60bb1c45-5b3d-4987-beb7-7aafaa6b4609",
   "metadata": {},
   "source": [
    "## Taking a look for trips data\n",
    "`trips` table in database, or `austin_bikeshare_trips.csv` in original files. It roughly consisted of 1.3 million rows"
   ]
  },
  {
   "cell_type": "code",
   "execution_count": 3,
   "id": "69039e08-e759-4950-9253-3ad44c59cddf",
   "metadata": {},
   "outputs": [
    {
     "data": {
      "text/html": [
       "<div>\n",
       "<style scoped>\n",
       "    .dataframe tbody tr th:only-of-type {\n",
       "        vertical-align: middle;\n",
       "    }\n",
       "\n",
       "    .dataframe tbody tr th {\n",
       "        vertical-align: top;\n",
       "    }\n",
       "\n",
       "    .dataframe thead th {\n",
       "        text-align: right;\n",
       "    }\n",
       "</style>\n",
       "<table border=\"1\" class=\"dataframe\">\n",
       "  <thead>\n",
       "    <tr style=\"text-align: right;\">\n",
       "      <th></th>\n",
       "      <th>trip_id</th>\n",
       "      <th>subscriber_type</th>\n",
       "      <th>bikeid</th>\n",
       "      <th>start_time</th>\n",
       "      <th>start_station_id</th>\n",
       "      <th>start_station_name</th>\n",
       "      <th>end_station_id</th>\n",
       "      <th>end_station_name</th>\n",
       "      <th>duration_minutes</th>\n",
       "    </tr>\n",
       "  </thead>\n",
       "  <tbody>\n",
       "    <tr>\n",
       "      <th>17977</th>\n",
       "      <td>23515345</td>\n",
       "      <td>Local365</td>\n",
       "      <td>19476</td>\n",
       "      <td>2021-02-13 14:17:15 UTC</td>\n",
       "      <td>3838.0</td>\n",
       "      <td>26th/Nueces</td>\n",
       "      <td>3841.0</td>\n",
       "      <td>23rd/Rio Grande</td>\n",
       "      <td>62</td>\n",
       "    </tr>\n",
       "    <tr>\n",
       "      <th>17978</th>\n",
       "      <td>23553979</td>\n",
       "      <td>Local365</td>\n",
       "      <td>19418</td>\n",
       "      <td>2021-02-26 18:12:13 UTC</td>\n",
       "      <td>3838.0</td>\n",
       "      <td>26th/Nueces</td>\n",
       "      <td>3841.0</td>\n",
       "      <td>23rd/Rio Grande</td>\n",
       "      <td>4</td>\n",
       "    </tr>\n",
       "    <tr>\n",
       "      <th>17979</th>\n",
       "      <td>23499655</td>\n",
       "      <td>U.T. Student Membership</td>\n",
       "      <td>21553</td>\n",
       "      <td>2021-02-07 17:15:29 UTC</td>\n",
       "      <td>3838.0</td>\n",
       "      <td>26th/Nueces</td>\n",
       "      <td>3841.0</td>\n",
       "      <td>23rd/Rio Grande</td>\n",
       "      <td>3</td>\n",
       "    </tr>\n",
       "    <tr>\n",
       "      <th>17980</th>\n",
       "      <td>23538444</td>\n",
       "      <td>U.T. Student Membership</td>\n",
       "      <td>2147</td>\n",
       "      <td>2021-02-22 20:52:06 UTC</td>\n",
       "      <td>3838.0</td>\n",
       "      <td>26th/Nueces</td>\n",
       "      <td>3841.0</td>\n",
       "      <td>23rd/Rio Grande</td>\n",
       "      <td>704</td>\n",
       "    </tr>\n",
       "    <tr>\n",
       "      <th>17981</th>\n",
       "      <td>23536417</td>\n",
       "      <td>Local365</td>\n",
       "      <td>16410</td>\n",
       "      <td>2021-02-22 13:41:36 UTC</td>\n",
       "      <td>3838.0</td>\n",
       "      <td>26th/Nueces</td>\n",
       "      <td>3841.0</td>\n",
       "      <td>23rd/Rio Grande</td>\n",
       "      <td>63</td>\n",
       "    </tr>\n",
       "  </tbody>\n",
       "</table>\n",
       "</div>"
      ],
      "text/plain": [
       "        trip_id          subscriber_type bikeid               start_time  \\\n",
       "17977  23515345                 Local365  19476  2021-02-13 14:17:15 UTC   \n",
       "17978  23553979                 Local365  19418  2021-02-26 18:12:13 UTC   \n",
       "17979  23499655  U.T. Student Membership  21553  2021-02-07 17:15:29 UTC   \n",
       "17980  23538444  U.T. Student Membership   2147  2021-02-22 20:52:06 UTC   \n",
       "17981  23536417                 Local365  16410  2021-02-22 13:41:36 UTC   \n",
       "\n",
       "       start_station_id start_station_name  end_station_id end_station_name  \\\n",
       "17977            3838.0        26th/Nueces          3841.0  23rd/Rio Grande   \n",
       "17978            3838.0        26th/Nueces          3841.0  23rd/Rio Grande   \n",
       "17979            3838.0        26th/Nueces          3841.0  23rd/Rio Grande   \n",
       "17980            3838.0        26th/Nueces          3841.0  23rd/Rio Grande   \n",
       "17981            3838.0        26th/Nueces          3841.0  23rd/Rio Grande   \n",
       "\n",
       "       duration_minutes  \n",
       "17977                62  \n",
       "17978                 4  \n",
       "17979                 3  \n",
       "17980               704  \n",
       "17981                63  "
      ]
     },
     "execution_count": 3,
     "metadata": {},
     "output_type": "execute_result"
    }
   ],
   "source": [
    "trips.tail()"
   ]
  },
  {
   "cell_type": "markdown",
   "id": "01ee13e1-1110-45fe-8831-1bf7604d6f87",
   "metadata": {},
   "source": [
    "**Data Descriptions**:\n",
    "- `bikeid`: integer id of bike\n",
    "- `checkout_time`: HH:MM:SS, see start time for date stamp\n",
    "- `duration_minutes`: int minutes of trip duration\n",
    "- `endstationid`: integer id of end station\n",
    "- `endstationname`: string of end station name\n",
    "- `month`: month, integer\n",
    "- `startstationid`: integer id of start station\n",
    "- `startstationname`: string of start station name\n",
    "- `start_time`: YYYY-MM-DD HH:MM:SS\n",
    "- `subscriber_type`: membership typ e.g. walk up, annual, other bike share, etc\n",
    "- `trip_id`: unique trip id int\n",
    "- `year`: year of trip, int"
   ]
  },
  {
   "cell_type": "markdown",
   "id": "44fd2bdd-a1e9-4734-b7a7-8ddc8f3ee0e2",
   "metadata": {},
   "source": [
    "## Taking a look for stations data\n",
    "`stations` table in database, or `austin_bikeshare_stations.csv` in original files "
   ]
  },
  {
   "cell_type": "code",
   "execution_count": 4,
   "id": "de5298bf-64a9-4565-a83d-ce1f4d1f4403",
   "metadata": {},
   "outputs": [
    {
     "data": {
      "text/html": [
       "<div>\n",
       "<style scoped>\n",
       "    .dataframe tbody tr th:only-of-type {\n",
       "        vertical-align: middle;\n",
       "    }\n",
       "\n",
       "    .dataframe tbody tr th {\n",
       "        vertical-align: top;\n",
       "    }\n",
       "\n",
       "    .dataframe thead th {\n",
       "        text-align: right;\n",
       "    }\n",
       "</style>\n",
       "<table border=\"1\" class=\"dataframe\">\n",
       "  <thead>\n",
       "    <tr style=\"text-align: right;\">\n",
       "      <th></th>\n",
       "      <th>station_id</th>\n",
       "      <th>name</th>\n",
       "      <th>status</th>\n",
       "      <th>address</th>\n",
       "      <th>alternate_name</th>\n",
       "      <th>city_asset_number</th>\n",
       "      <th>property_type</th>\n",
       "      <th>number_of_docks</th>\n",
       "      <th>power_type</th>\n",
       "      <th>footprint_length</th>\n",
       "      <th>footprint_width</th>\n",
       "      <th>notes</th>\n",
       "      <th>council_district</th>\n",
       "      <th>modified_date</th>\n",
       "    </tr>\n",
       "  </thead>\n",
       "  <tbody>\n",
       "    <tr>\n",
       "      <th>0</th>\n",
       "      <td>3464</td>\n",
       "      <td>Pease Park</td>\n",
       "      <td>closed</td>\n",
       "      <td>1155 Kingsbury St</td>\n",
       "      <td>NaN</td>\n",
       "      <td>NaN</td>\n",
       "      <td>NaN</td>\n",
       "      <td>NaN</td>\n",
       "      <td>NaN</td>\n",
       "      <td>NaN</td>\n",
       "      <td>NaN</td>\n",
       "      <td>NaN</td>\n",
       "      <td>9</td>\n",
       "      <td>2021-01-04T12:00:00Z</td>\n",
       "    </tr>\n",
       "    <tr>\n",
       "      <th>1</th>\n",
       "      <td>2500</td>\n",
       "      <td>Republic Square</td>\n",
       "      <td>closed</td>\n",
       "      <td>425 W 4th Street</td>\n",
       "      <td>NaN</td>\n",
       "      <td>NaN</td>\n",
       "      <td>NaN</td>\n",
       "      <td>NaN</td>\n",
       "      <td>NaN</td>\n",
       "      <td>NaN</td>\n",
       "      <td>NaN</td>\n",
       "      <td>NaN</td>\n",
       "      <td>9</td>\n",
       "      <td>2021-01-04T12:00:00Z</td>\n",
       "    </tr>\n",
       "    <tr>\n",
       "      <th>2</th>\n",
       "      <td>2536</td>\n",
       "      <td>Waller &amp; 6th St.</td>\n",
       "      <td>closed</td>\n",
       "      <td>602 Waller St.</td>\n",
       "      <td>NaN</td>\n",
       "      <td>NaN</td>\n",
       "      <td>NaN</td>\n",
       "      <td>NaN</td>\n",
       "      <td>NaN</td>\n",
       "      <td>NaN</td>\n",
       "      <td>NaN</td>\n",
       "      <td>NaN</td>\n",
       "      <td>3</td>\n",
       "      <td>2021-01-04T12:00:00Z</td>\n",
       "    </tr>\n",
       "    <tr>\n",
       "      <th>3</th>\n",
       "      <td>2538</td>\n",
       "      <td>Bullock Museum @ Congress &amp; MLK</td>\n",
       "      <td>closed</td>\n",
       "      <td>1881 Congress Ave.</td>\n",
       "      <td>NaN</td>\n",
       "      <td>NaN</td>\n",
       "      <td>NaN</td>\n",
       "      <td>NaN</td>\n",
       "      <td>NaN</td>\n",
       "      <td>NaN</td>\n",
       "      <td>NaN</td>\n",
       "      <td>NaN</td>\n",
       "      <td>1</td>\n",
       "      <td>2021-01-04T12:00:00Z</td>\n",
       "    </tr>\n",
       "    <tr>\n",
       "      <th>4</th>\n",
       "      <td>2541</td>\n",
       "      <td>State Capitol @ 14th &amp; Colorado</td>\n",
       "      <td>closed</td>\n",
       "      <td>206 W. 14th St.</td>\n",
       "      <td>NaN</td>\n",
       "      <td>NaN</td>\n",
       "      <td>NaN</td>\n",
       "      <td>NaN</td>\n",
       "      <td>NaN</td>\n",
       "      <td>NaN</td>\n",
       "      <td>NaN</td>\n",
       "      <td>NaN</td>\n",
       "      <td>1</td>\n",
       "      <td>2021-01-04T12:00:00Z</td>\n",
       "    </tr>\n",
       "    <tr>\n",
       "      <th>...</th>\n",
       "      <td>...</td>\n",
       "      <td>...</td>\n",
       "      <td>...</td>\n",
       "      <td>...</td>\n",
       "      <td>...</td>\n",
       "      <td>...</td>\n",
       "      <td>...</td>\n",
       "      <td>...</td>\n",
       "      <td>...</td>\n",
       "      <td>...</td>\n",
       "      <td>...</td>\n",
       "      <td>...</td>\n",
       "      <td>...</td>\n",
       "      <td>...</td>\n",
       "    </tr>\n",
       "    <tr>\n",
       "      <th>93</th>\n",
       "      <td>4048</td>\n",
       "      <td>South Congress @ Bouldin Creek</td>\n",
       "      <td>active</td>\n",
       "      <td>799 South Congress Avenue</td>\n",
       "      <td>NaN</td>\n",
       "      <td>32746.0</td>\n",
       "      <td>undetermined_parking</td>\n",
       "      <td>13.0</td>\n",
       "      <td>solar</td>\n",
       "      <td>40.0</td>\n",
       "      <td>5.0</td>\n",
       "      <td>NaN</td>\n",
       "      <td>9</td>\n",
       "      <td>2021-01-04T12:00:00Z</td>\n",
       "    </tr>\n",
       "    <tr>\n",
       "      <th>94</th>\n",
       "      <td>3377</td>\n",
       "      <td>MoPac Pedestrian Bridge @ Veterans Drive</td>\n",
       "      <td>active</td>\n",
       "      <td>2105 Veterans Dr.</td>\n",
       "      <td>NaN</td>\n",
       "      <td>16598.0</td>\n",
       "      <td>undetermined_parking</td>\n",
       "      <td>19.0</td>\n",
       "      <td>solar</td>\n",
       "      <td>55.0</td>\n",
       "      <td>5.0</td>\n",
       "      <td>parkland in ROW/eastment</td>\n",
       "      <td>9</td>\n",
       "      <td>2021-01-04T12:00:00Z</td>\n",
       "    </tr>\n",
       "    <tr>\n",
       "      <th>95</th>\n",
       "      <td>3794</td>\n",
       "      <td>Dean Keeton &amp; Speedway</td>\n",
       "      <td>active</td>\n",
       "      <td>180 E. Dean Keeton St.</td>\n",
       "      <td>NaN</td>\n",
       "      <td>32670.0</td>\n",
       "      <td>undetermined_parking</td>\n",
       "      <td>19.0</td>\n",
       "      <td>solar</td>\n",
       "      <td>55.0</td>\n",
       "      <td>5.0</td>\n",
       "      <td>NaN</td>\n",
       "      <td>9</td>\n",
       "      <td>2021-01-04T12:00:00Z</td>\n",
       "    </tr>\n",
       "    <tr>\n",
       "      <th>96</th>\n",
       "      <td>3795</td>\n",
       "      <td>Dean Keeton &amp; Whitis</td>\n",
       "      <td>active</td>\n",
       "      <td>300 W. Dean Keeton St.</td>\n",
       "      <td>NaN</td>\n",
       "      <td>32671.0</td>\n",
       "      <td>undetermined_parking</td>\n",
       "      <td>19.0</td>\n",
       "      <td>solar</td>\n",
       "      <td>55.0</td>\n",
       "      <td>5.0</td>\n",
       "      <td>NaN</td>\n",
       "      <td>9</td>\n",
       "      <td>2021-01-04T12:00:00Z</td>\n",
       "    </tr>\n",
       "    <tr>\n",
       "      <th>97</th>\n",
       "      <td>3797</td>\n",
       "      <td>21st &amp; University</td>\n",
       "      <td>active</td>\n",
       "      <td>2007 University Ave.</td>\n",
       "      <td>NaN</td>\n",
       "      <td>32674.0</td>\n",
       "      <td>undetermined_parking</td>\n",
       "      <td>19.0</td>\n",
       "      <td>solar</td>\n",
       "      <td>55.0</td>\n",
       "      <td>5.0</td>\n",
       "      <td>ROW might belong to UT</td>\n",
       "      <td>9</td>\n",
       "      <td>2021-01-04T12:00:00Z</td>\n",
       "    </tr>\n",
       "  </tbody>\n",
       "</table>\n",
       "<p>98 rows × 14 columns</p>\n",
       "</div>"
      ],
      "text/plain": [
       "    station_id                                      name  status  \\\n",
       "0         3464                                Pease Park  closed   \n",
       "1         2500                           Republic Square  closed   \n",
       "2         2536                          Waller & 6th St.  closed   \n",
       "3         2538           Bullock Museum @ Congress & MLK  closed   \n",
       "4         2541           State Capitol @ 14th & Colorado  closed   \n",
       "..         ...                                       ...     ...   \n",
       "93        4048            South Congress @ Bouldin Creek  active   \n",
       "94        3377  MoPac Pedestrian Bridge @ Veterans Drive  active   \n",
       "95        3794                    Dean Keeton & Speedway  active   \n",
       "96        3795                      Dean Keeton & Whitis  active   \n",
       "97        3797                         21st & University  active   \n",
       "\n",
       "                      address alternate_name  city_asset_number  \\\n",
       "0           1155 Kingsbury St            NaN                NaN   \n",
       "1            425 W 4th Street            NaN                NaN   \n",
       "2              602 Waller St.            NaN                NaN   \n",
       "3          1881 Congress Ave.            NaN                NaN   \n",
       "4             206 W. 14th St.            NaN                NaN   \n",
       "..                        ...            ...                ...   \n",
       "93  799 South Congress Avenue            NaN            32746.0   \n",
       "94          2105 Veterans Dr.            NaN            16598.0   \n",
       "95     180 E. Dean Keeton St.            NaN            32670.0   \n",
       "96     300 W. Dean Keeton St.            NaN            32671.0   \n",
       "97       2007 University Ave.            NaN            32674.0   \n",
       "\n",
       "           property_type  number_of_docks power_type  footprint_length  \\\n",
       "0                    NaN              NaN        NaN               NaN   \n",
       "1                    NaN              NaN        NaN               NaN   \n",
       "2                    NaN              NaN        NaN               NaN   \n",
       "3                    NaN              NaN        NaN               NaN   \n",
       "4                    NaN              NaN        NaN               NaN   \n",
       "..                   ...              ...        ...               ...   \n",
       "93  undetermined_parking             13.0      solar              40.0   \n",
       "94  undetermined_parking             19.0      solar              55.0   \n",
       "95  undetermined_parking             19.0      solar              55.0   \n",
       "96  undetermined_parking             19.0      solar              55.0   \n",
       "97  undetermined_parking             19.0      solar              55.0   \n",
       "\n",
       "    footprint_width                     notes  council_district  \\\n",
       "0               NaN                       NaN                 9   \n",
       "1               NaN                       NaN                 9   \n",
       "2               NaN                       NaN                 3   \n",
       "3               NaN                       NaN                 1   \n",
       "4               NaN                       NaN                 1   \n",
       "..              ...                       ...               ...   \n",
       "93              5.0                       NaN                 9   \n",
       "94              5.0  parkland in ROW/eastment                 9   \n",
       "95              5.0                       NaN                 9   \n",
       "96              5.0                       NaN                 9   \n",
       "97              5.0    ROW might belong to UT                 9   \n",
       "\n",
       "           modified_date  \n",
       "0   2021-01-04T12:00:00Z  \n",
       "1   2021-01-04T12:00:00Z  \n",
       "2   2021-01-04T12:00:00Z  \n",
       "3   2021-01-04T12:00:00Z  \n",
       "4   2021-01-04T12:00:00Z  \n",
       "..                   ...  \n",
       "93  2021-01-04T12:00:00Z  \n",
       "94  2021-01-04T12:00:00Z  \n",
       "95  2021-01-04T12:00:00Z  \n",
       "96  2021-01-04T12:00:00Z  \n",
       "97  2021-01-04T12:00:00Z  \n",
       "\n",
       "[98 rows x 14 columns]"
      ]
     },
     "execution_count": 4,
     "metadata": {},
     "output_type": "execute_result"
    }
   ],
   "source": [
    "stations"
   ]
  },
  {
   "cell_type": "markdown",
   "id": "fb167853-53c1-4bd5-aea4-3bcf0d0cba5e",
   "metadata": {},
   "source": [
    "**stations table (or austin_bikeshare_trips.csv)**:\n",
    "- `station_id`: integer id of station\n",
    "- `name`: string of station name\n",
    "- `status`: string of station status (active, closed, moved, ACL-only)\n",
    "- `address`: string of station address\n",
    "- `alternate_name`: string of station alternative name\n",
    "- `city_asset_number`: integer of station's asset number\n",
    "- `property_type`: string of station's property type\n",
    "- `number_of_docks`: integer of number of available bike docks\n",
    "- `power_type`: string of station's power source type\n",
    "- `footprint_length`: float of station' blueprint length (size of the station). Probably in meters\n",
    "- `footprint_width`: float of station' blueprint width (size of the station). Probably in meters\n",
    "- `notes`: string of additional notes\n",
    "- `council_district`: integer of stations's council district\n",
    "- `modified_date`: date of last modified information regarding the station"
   ]
  },
  {
   "cell_type": "markdown",
   "id": "c424d7fc-0fe4-4010-959f-d030c825abc5",
   "metadata": {},
   "source": [
    "# Database"
   ]
  },
  {
   "cell_type": "markdown",
   "id": "c8ab9b50-dc5c-431a-a01e-b32bf0a10709",
   "metadata": {},
   "source": [
    "The first important task is to make sure we can securely make connections to the database. In this scenario, we will connect to sqlite database, `austin_bikeshare.db` via python. In this part, we will re-visit on how to work with databases, started with making a connection, get some data, and insert data into it. \n",
    "\n",
    "You can directly connect and view the database using TablePlus, or run the following code to create the connection"
   ]
  },
  {
   "cell_type": "code",
   "execution_count": 5,
   "id": "bbaec86f-2ce8-48d2-b37c-d949e53d18ce",
   "metadata": {},
   "outputs": [
    {
     "data": {
      "text/plain": [
       "<sqlite3.Connection at 0x1756e87f7b0>"
      ]
     },
     "execution_count": 5,
     "metadata": {},
     "output_type": "execute_result"
    }
   ],
   "source": [
    "# Define a function to create connection for reusability purpose\n",
    "def make_connection():\n",
    "    connection = sqlite3.connect('austin_bikeshare.db')\n",
    "    return connection\n",
    "\n",
    "# Make a connection\n",
    "conn = make_connection()\n",
    "conn"
   ]
  },
  {
   "cell_type": "markdown",
   "id": "63da1e43-7bea-473c-9b7e-f9b86e13a8ec",
   "metadata": {},
   "source": [
    "## POST: Insert data into database\n",
    "\n",
    "Generally, POST method will utilize the data sent by user for specific purporse, for example: \n",
    "\n",
    "- Insert new data into the database. \n",
    "- Operate the data into some function"
   ]
  },
  {
   "cell_type": "markdown",
   "id": "27d0a87a-a3cf-4a38-85bb-3036718f2e62",
   "metadata": {},
   "source": [
    "We will learn how to insert data into a specific table in our database. Please refer to the following code to create and run the query for the given task"
   ]
  },
  {
   "cell_type": "code",
   "execution_count": 6,
   "id": "1d200cd0-8a48-4b45-800c-c39c25bafcb4",
   "metadata": {
    "scrolled": true
   },
   "outputs": [
    {
     "data": {
      "text/plain": [
       "(2500,\n",
       " 'Republic Square',\n",
       " 'closed',\n",
       " '425 W 4th Street',\n",
       " '',\n",
       " '',\n",
       " '',\n",
       " '',\n",
       " '',\n",
       " '',\n",
       " '',\n",
       " '',\n",
       " 9,\n",
       " '2021-01-04T12:00:00Z')"
      ]
     },
     "execution_count": 6,
     "metadata": {},
     "output_type": "execute_result"
    }
   ],
   "source": [
    "# Get the data values\n",
    "data = tuple(stations.iloc[1].fillna('').values)\n",
    "\n",
    "# Make the query\n",
    "query = f\"\"\"\n",
    "INSERT or REPLACE INTO stations\n",
    "VALUES {data}\n",
    "\"\"\"\n",
    "data"
   ]
  },
  {
   "cell_type": "code",
   "execution_count": 7,
   "id": "1bf0754c-9cea-4d62-b870-1323bb2f7c1b",
   "metadata": {},
   "outputs": [
    {
     "name": "stdout",
     "output_type": "stream",
     "text": [
      "\n",
      "INSERT or REPLACE INTO stations\n",
      "VALUES (2500, 'Republic Square', 'closed', '425 W 4th Street', '', '', '', '', '', '', '', '', 9, '2021-01-04T12:00:00Z')\n",
      "\n"
     ]
    }
   ],
   "source": [
    "# See the actual query looks like\n",
    "print(query)"
   ]
  },
  {
   "cell_type": "code",
   "execution_count": 8,
   "id": "7c5c2d27-93ee-48a2-8228-d54c26b6f3da",
   "metadata": {},
   "outputs": [
    {
     "data": {
      "text/plain": [
       "<sqlite3.Cursor at 0x17578ac8880>"
      ]
     },
     "execution_count": 8,
     "metadata": {},
     "output_type": "execute_result"
    }
   ],
   "source": [
    "# Execute the query \n",
    "conn.execute(query)"
   ]
  },
  {
   "cell_type": "code",
   "execution_count": 9,
   "id": "3b35411a-c2bd-4a20-9663-50356ce74f7c",
   "metadata": {},
   "outputs": [],
   "source": [
    "# Commit changes to database\n",
    "conn.commit()"
   ]
  },
  {
   "cell_type": "markdown",
   "id": "433e02eb-4244-4bf9-8cd6-2f65da183431",
   "metadata": {},
   "source": [
    "Once the code above succesful, it's recomended to wrap it into a function so that we can reuse it in the future. Complete the following codes to make the function:"
   ]
  },
  {
   "cell_type": "code",
   "execution_count": 10,
   "id": "604b25b8-66f9-4707-a092-a945023133cc",
   "metadata": {},
   "outputs": [],
   "source": [
    "def insert_into_stations(data, conn):\n",
    "    query = f\"\"\"INSERT or REPLACE INTO stations values {data}\"\"\"\n",
    "    try:\n",
    "        conn.execute(query)\n",
    "    except:\n",
    "        return 'Error'\n",
    "    conn.commit()\n",
    "    return 'OK'"
   ]
  },
  {
   "cell_type": "code",
   "execution_count": 11,
   "id": "97b6ec11-9394-4b27-8203-4892c79cfbc5",
   "metadata": {},
   "outputs": [],
   "source": [
    "# Example use of the function \n",
    "conn = make_connection()\n",
    "data = tuple(stations.iloc[6].fillna('').values) # Randomly select a data\n",
    "result = insert_into_stations(data, conn)"
   ]
  },
  {
   "cell_type": "code",
   "execution_count": 12,
   "id": "ff8ed920",
   "metadata": {},
   "outputs": [
    {
     "data": {
      "text/plain": [
       "<sqlite3.Connection at 0x17578892e40>"
      ]
     },
     "execution_count": 12,
     "metadata": {},
     "output_type": "execute_result"
    }
   ],
   "source": [
    "conn"
   ]
  },
  {
   "cell_type": "code",
   "execution_count": 13,
   "id": "3e38f607",
   "metadata": {},
   "outputs": [
    {
     "data": {
      "text/plain": [
       "(2546,\n",
       " 'ACC - West & 12th Street',\n",
       " 'closed',\n",
       " '1231 West Ave.',\n",
       " '',\n",
       " '',\n",
       " '',\n",
       " '',\n",
       " '',\n",
       " '',\n",
       " '',\n",
       " '',\n",
       " 9,\n",
       " '2021-01-04T12:00:00Z')"
      ]
     },
     "execution_count": 13,
     "metadata": {},
     "output_type": "execute_result"
    }
   ],
   "source": [
    "data"
   ]
  },
  {
   "cell_type": "code",
   "execution_count": 14,
   "id": "513c8720",
   "metadata": {},
   "outputs": [
    {
     "data": {
      "text/plain": [
       "'OK'"
      ]
     },
     "execution_count": 14,
     "metadata": {},
     "output_type": "execute_result"
    }
   ],
   "source": [
    "result"
   ]
  },
  {
   "cell_type": "markdown",
   "id": "d9beafb2-ee93-4532-a0f9-b10ac56a6835",
   "metadata": {},
   "source": [
    "**TASK: Create a Function to insert data for `trips` table**"
   ]
  },
  {
   "cell_type": "code",
   "execution_count": 15,
   "id": "7c52b454",
   "metadata": {},
   "outputs": [],
   "source": [
    "# Get the data values\n",
    "data = tuple(trips.iloc[1].fillna('').values)\n",
    "\n",
    "# Make the query\n",
    "query = f\"\"\"\n",
    "INSERT or REPLACE INTO trips\n",
    "VALUES {data}\n",
    "\"\"\""
   ]
  },
  {
   "cell_type": "code",
   "execution_count": 16,
   "id": "e4ba32f9",
   "metadata": {},
   "outputs": [
    {
     "name": "stdout",
     "output_type": "stream",
     "text": [
      "\n",
      "INSERT or REPLACE INTO trips\n",
      "VALUES (23459960, 'Local365', '19265', '2021-01-28 08:03:52 UTC', 4054.0, 'Rosewood/Chicon', 4055.0, '11th/Salina ', 16)\n",
      "\n"
     ]
    }
   ],
   "source": [
    "# See the actual query looks like\n",
    "print(query)"
   ]
  },
  {
   "cell_type": "code",
   "execution_count": 17,
   "id": "eca7b6a3",
   "metadata": {},
   "outputs": [
    {
     "data": {
      "text/plain": [
       "<sqlite3.Cursor at 0x17578ac88f0>"
      ]
     },
     "execution_count": 17,
     "metadata": {},
     "output_type": "execute_result"
    }
   ],
   "source": [
    "# Execute the query \n",
    "conn.execute(query)"
   ]
  },
  {
   "cell_type": "code",
   "execution_count": 18,
   "id": "249ee668",
   "metadata": {},
   "outputs": [],
   "source": [
    "# Commit changes to database\n",
    "conn.commit()"
   ]
  },
  {
   "cell_type": "code",
   "execution_count": 19,
   "id": "21168354",
   "metadata": {},
   "outputs": [],
   "source": [
    "def insert_into_trips(data, conn):\n",
    "    query = f\"\"\"INSERT or REPLACE INTO trips values {data}\"\"\"\n",
    "    try:\n",
    "        conn.execute(query)\n",
    "    except:\n",
    "        return 'Error'\n",
    "    conn.commit()\n",
    "    return 'OK'"
   ]
  },
  {
   "cell_type": "code",
   "execution_count": 20,
   "id": "b5a96696",
   "metadata": {},
   "outputs": [],
   "source": [
    "conn = make_connection()\n",
    "data = tuple(trips.iloc[6].fillna('').values)\n",
    "result = insert_into_trips(data, conn)"
   ]
  },
  {
   "cell_type": "code",
   "execution_count": 21,
   "id": "050e9658",
   "metadata": {},
   "outputs": [
    {
     "data": {
      "text/plain": [
       "'OK'"
      ]
     },
     "execution_count": 21,
     "metadata": {},
     "output_type": "execute_result"
    }
   ],
   "source": [
    "result"
   ]
  },
  {
   "cell_type": "markdown",
   "id": "72c93934-9c7e-495e-8613-9a5e73833577",
   "metadata": {},
   "source": [
    "## GET: Read specific data"
   ]
  },
  {
   "cell_type": "markdown",
   "id": "f2486c61-a982-4d9f-831f-1fa77a21a417",
   "metadata": {},
   "source": [
    "Generally, GET method will ask for specific the data in the database, alongside with additional information we might send. For example: \n",
    "- Get number of unique user\n",
    "- Get full trips information for specific user id\n",
    "- Get average trips duration and length for specific user id\n",
    "\n",
    "In this example, we will implement the most basic GET method, that is to get Station information in the table based on specific Station ID"
   ]
  },
  {
   "cell_type": "code",
   "execution_count": 22,
   "id": "09b1e8f2-fc04-4c06-a23e-d31a93f65ccd",
   "metadata": {},
   "outputs": [],
   "source": [
    "# Get Specific Station ID Query\n",
    "station_id = 2500\n",
    "query_station_id = f\"\"\"\n",
    "SELECT * FROM stations\n",
    "WHERE station_id = {station_id}\n",
    "\"\"\"\n",
    "\n",
    "# Get all station ID Query\n",
    "query_station_all = \"SELECT * FROM stations\""
   ]
  },
  {
   "cell_type": "code",
   "execution_count": 23,
   "id": "c4e317b7",
   "metadata": {},
   "outputs": [
    {
     "name": "stdout",
     "output_type": "stream",
     "text": [
      "\n",
      "SELECT * FROM stations\n",
      "WHERE station_id = 2500\n",
      "\n"
     ]
    }
   ],
   "source": [
    "print(query_station_id)"
   ]
  },
  {
   "cell_type": "code",
   "execution_count": 24,
   "id": "2b014e89-f857-4e18-9607-2b7d6139a1de",
   "metadata": {},
   "outputs": [],
   "source": [
    "# Run the query and get the result\n",
    "result = pd.read_sql_query(query_station_id, conn)"
   ]
  },
  {
   "cell_type": "code",
   "execution_count": 25,
   "id": "5c7a54ab-e979-4c1c-b27c-60e501cb3733",
   "metadata": {},
   "outputs": [
    {
     "data": {
      "text/html": [
       "<div>\n",
       "<style scoped>\n",
       "    .dataframe tbody tr th:only-of-type {\n",
       "        vertical-align: middle;\n",
       "    }\n",
       "\n",
       "    .dataframe tbody tr th {\n",
       "        vertical-align: top;\n",
       "    }\n",
       "\n",
       "    .dataframe thead th {\n",
       "        text-align: right;\n",
       "    }\n",
       "</style>\n",
       "<table border=\"1\" class=\"dataframe\">\n",
       "  <thead>\n",
       "    <tr style=\"text-align: right;\">\n",
       "      <th></th>\n",
       "      <th>station_id</th>\n",
       "      <th>name</th>\n",
       "      <th>status</th>\n",
       "      <th>address</th>\n",
       "      <th>alternate_name</th>\n",
       "      <th>city_asset_number</th>\n",
       "      <th>property_type</th>\n",
       "      <th>number_of_docks</th>\n",
       "      <th>power_type</th>\n",
       "      <th>footprint_length</th>\n",
       "      <th>footprint_width</th>\n",
       "      <th>notes</th>\n",
       "      <th>council_district</th>\n",
       "      <th>modified_date</th>\n",
       "    </tr>\n",
       "  </thead>\n",
       "  <tbody>\n",
       "    <tr>\n",
       "      <th>0</th>\n",
       "      <td>2500</td>\n",
       "      <td>Republic Square</td>\n",
       "      <td>closed</td>\n",
       "      <td>425 W 4th Street</td>\n",
       "      <td></td>\n",
       "      <td></td>\n",
       "      <td></td>\n",
       "      <td></td>\n",
       "      <td></td>\n",
       "      <td></td>\n",
       "      <td></td>\n",
       "      <td></td>\n",
       "      <td>9</td>\n",
       "      <td>2021-01-04T12:00:00Z</td>\n",
       "    </tr>\n",
       "  </tbody>\n",
       "</table>\n",
       "</div>"
      ],
      "text/plain": [
       "   station_id             name  status           address alternate_name  \\\n",
       "0        2500  Republic Square  closed  425 W 4th Street                  \n",
       "\n",
       "  city_asset_number property_type number_of_docks power_type footprint_length  \\\n",
       "0                                                                               \n",
       "\n",
       "  footprint_width notes  council_district         modified_date  \n",
       "0                                       9  2021-01-04T12:00:00Z  "
      ]
     },
     "execution_count": 25,
     "metadata": {},
     "output_type": "execute_result"
    }
   ],
   "source": [
    "result"
   ]
  },
  {
   "cell_type": "markdown",
   "id": "7257fe25",
   "metadata": {},
   "source": [
    "**Based on specific Station Name**"
   ]
  },
  {
   "cell_type": "code",
   "execution_count": 26,
   "id": "a2595923",
   "metadata": {},
   "outputs": [],
   "source": [
    "# Get Specific Station Name Query\n",
    "name = 'Republic Square'\n",
    "query_name = f\"\"\"\n",
    "SELECT * FROM stations\n",
    "WHERE name = {name}\n",
    "\"\"\"\n",
    "\n",
    "# Get all name Query\n",
    "query_name_all = \"SELECT * FROM stations\""
   ]
  },
  {
   "cell_type": "code",
   "execution_count": 27,
   "id": "6b9d34cb",
   "metadata": {},
   "outputs": [],
   "source": [
    "# Run the query and get the result\n",
    "result = pd.read_sql_query(query_station_id, conn)"
   ]
  },
  {
   "cell_type": "code",
   "execution_count": 28,
   "id": "be5ad3e3",
   "metadata": {},
   "outputs": [
    {
     "data": {
      "text/html": [
       "<div>\n",
       "<style scoped>\n",
       "    .dataframe tbody tr th:only-of-type {\n",
       "        vertical-align: middle;\n",
       "    }\n",
       "\n",
       "    .dataframe tbody tr th {\n",
       "        vertical-align: top;\n",
       "    }\n",
       "\n",
       "    .dataframe thead th {\n",
       "        text-align: right;\n",
       "    }\n",
       "</style>\n",
       "<table border=\"1\" class=\"dataframe\">\n",
       "  <thead>\n",
       "    <tr style=\"text-align: right;\">\n",
       "      <th></th>\n",
       "      <th>station_id</th>\n",
       "      <th>name</th>\n",
       "      <th>status</th>\n",
       "      <th>address</th>\n",
       "      <th>alternate_name</th>\n",
       "      <th>city_asset_number</th>\n",
       "      <th>property_type</th>\n",
       "      <th>number_of_docks</th>\n",
       "      <th>power_type</th>\n",
       "      <th>footprint_length</th>\n",
       "      <th>footprint_width</th>\n",
       "      <th>notes</th>\n",
       "      <th>council_district</th>\n",
       "      <th>modified_date</th>\n",
       "    </tr>\n",
       "  </thead>\n",
       "  <tbody>\n",
       "    <tr>\n",
       "      <th>0</th>\n",
       "      <td>2500</td>\n",
       "      <td>Republic Square</td>\n",
       "      <td>closed</td>\n",
       "      <td>425 W 4th Street</td>\n",
       "      <td></td>\n",
       "      <td></td>\n",
       "      <td></td>\n",
       "      <td></td>\n",
       "      <td></td>\n",
       "      <td></td>\n",
       "      <td></td>\n",
       "      <td></td>\n",
       "      <td>9</td>\n",
       "      <td>2021-01-04T12:00:00Z</td>\n",
       "    </tr>\n",
       "  </tbody>\n",
       "</table>\n",
       "</div>"
      ],
      "text/plain": [
       "   station_id             name  status           address alternate_name  \\\n",
       "0        2500  Republic Square  closed  425 W 4th Street                  \n",
       "\n",
       "  city_asset_number property_type number_of_docks power_type footprint_length  \\\n",
       "0                                                                               \n",
       "\n",
       "  footprint_width notes  council_district         modified_date  \n",
       "0                                       9  2021-01-04T12:00:00Z  "
      ]
     },
     "execution_count": 28,
     "metadata": {},
     "output_type": "execute_result"
    }
   ],
   "source": [
    "result"
   ]
  },
  {
   "cell_type": "markdown",
   "id": "4e589298-cbb0-4720-8275-7f09c18a9cca",
   "metadata": {},
   "source": [
    "Just like the previous section, create a function to read specific station"
   ]
  },
  {
   "cell_type": "code",
   "execution_count": 29,
   "id": "697114ad-0305-4d98-8cad-fa384be07e6b",
   "metadata": {},
   "outputs": [],
   "source": [
    "def get_station_id(station_id, conn):\n",
    "    query = f\"\"\"SELECT * FROM stations WHERE station_id = {station_id}\"\"\"\n",
    "    result = pd.read_sql_query(query, conn)\n",
    "    return result \n",
    "\n",
    "def get_all_stations(conn):\n",
    "    query = f\"\"\"SELECT * FROM stations\"\"\"\n",
    "    result = pd.read_sql_query(query, conn)\n",
    "    return result\n",
    "\n",
    "def get_station_name(name, conn):\n",
    "    query = f\"\"\"SELECT * FROM stations WHERE name = {name}\"\"\"\n",
    "    result = pd.read_sql_query(query, conn)\n",
    "    return result"
   ]
  },
  {
   "cell_type": "markdown",
   "id": "d4d9eae2-06d8-4fed-a14b-adb32a3fbe1d",
   "metadata": {},
   "source": [
    "**TASK: Create a Function to read data from `trips` table**"
   ]
  },
  {
   "cell_type": "markdown",
   "id": "66e91f7d",
   "metadata": {},
   "source": [
    "**Based on specific Trip ID**"
   ]
  },
  {
   "cell_type": "code",
   "execution_count": 30,
   "id": "be1eb379",
   "metadata": {},
   "outputs": [],
   "source": [
    "# Get Specific Trip ID Query\n",
    "id = 8270013\n",
    "query_id = f\"\"\"\n",
    "SELECT * FROM trips\n",
    "WHERE id = {id}\n",
    "\"\"\"\n",
    "\n",
    "query_trip_all = \"SELECT * FROM trips\""
   ]
  },
  {
   "cell_type": "code",
   "execution_count": 31,
   "id": "598aefe5",
   "metadata": {},
   "outputs": [
    {
     "name": "stdout",
     "output_type": "stream",
     "text": [
      "\n",
      "SELECT * FROM trips\n",
      "WHERE id = 8270013\n",
      "\n"
     ]
    }
   ],
   "source": [
    "print(query_id)"
   ]
  },
  {
   "cell_type": "code",
   "execution_count": 32,
   "id": "4f351d0c",
   "metadata": {},
   "outputs": [],
   "source": [
    "result = pd.read_sql_query(query_id, conn)"
   ]
  },
  {
   "cell_type": "code",
   "execution_count": 33,
   "id": "778a193b",
   "metadata": {},
   "outputs": [
    {
     "data": {
      "text/html": [
       "<div>\n",
       "<style scoped>\n",
       "    .dataframe tbody tr th:only-of-type {\n",
       "        vertical-align: middle;\n",
       "    }\n",
       "\n",
       "    .dataframe tbody tr th {\n",
       "        vertical-align: top;\n",
       "    }\n",
       "\n",
       "    .dataframe thead th {\n",
       "        text-align: right;\n",
       "    }\n",
       "</style>\n",
       "<table border=\"1\" class=\"dataframe\">\n",
       "  <thead>\n",
       "    <tr style=\"text-align: right;\">\n",
       "      <th></th>\n",
       "      <th>id</th>\n",
       "      <th>subscriber_type</th>\n",
       "      <th>bikeid</th>\n",
       "      <th>start_time</th>\n",
       "      <th>start_station_id</th>\n",
       "      <th>start_station_name</th>\n",
       "      <th>end_station_id</th>\n",
       "      <th>end_station_name</th>\n",
       "      <th>duration_minutes</th>\n",
       "    </tr>\n",
       "  </thead>\n",
       "  <tbody>\n",
       "    <tr>\n",
       "      <th>0</th>\n",
       "      <td>8270013</td>\n",
       "      <td>Local365</td>\n",
       "      <td>884</td>\n",
       "      <td>2016-01-01 03:07:08 UTC</td>\n",
       "      <td>2567</td>\n",
       "      <td>Palmer Auditorium</td>\n",
       "      <td>2711</td>\n",
       "      <td>Barton Springs @ Kinney Ave</td>\n",
       "      <td>6</td>\n",
       "    </tr>\n",
       "  </tbody>\n",
       "</table>\n",
       "</div>"
      ],
      "text/plain": [
       "        id subscriber_type bikeid               start_time  start_station_id  \\\n",
       "0  8270013        Local365    884  2016-01-01 03:07:08 UTC              2567   \n",
       "\n",
       "  start_station_name  end_station_id             end_station_name  \\\n",
       "0  Palmer Auditorium            2711  Barton Springs @ Kinney Ave   \n",
       "\n",
       "   duration_minutes  \n",
       "0                 6  "
      ]
     },
     "execution_count": 33,
     "metadata": {},
     "output_type": "execute_result"
    }
   ],
   "source": [
    "result"
   ]
  },
  {
   "cell_type": "markdown",
   "id": "951ca071",
   "metadata": {},
   "source": [
    "**Based on specific bikeid of Trips**"
   ]
  },
  {
   "cell_type": "code",
   "execution_count": 34,
   "id": "474120f3",
   "metadata": {},
   "outputs": [],
   "source": [
    "# Get Specific bikeid of Trips Query\n",
    "bikeid = 884\n",
    "query_bikeid = f\"\"\"\n",
    "SELECT * FROM trips\n",
    "WHERE bikeid = {bikeid}\n",
    "\"\"\"\n",
    "\n",
    "query_bikeid_all = \"SELECT * FROM trips\""
   ]
  },
  {
   "cell_type": "code",
   "execution_count": 35,
   "id": "818c562f",
   "metadata": {},
   "outputs": [
    {
     "name": "stdout",
     "output_type": "stream",
     "text": [
      "\n",
      "SELECT * FROM trips\n",
      "WHERE bikeid = 884\n",
      "\n"
     ]
    }
   ],
   "source": [
    "print(query_bikeid)"
   ]
  },
  {
   "cell_type": "code",
   "execution_count": 36,
   "id": "64831877",
   "metadata": {},
   "outputs": [
    {
     "data": {
      "text/html": [
       "<div>\n",
       "<style scoped>\n",
       "    .dataframe tbody tr th:only-of-type {\n",
       "        vertical-align: middle;\n",
       "    }\n",
       "\n",
       "    .dataframe tbody tr th {\n",
       "        vertical-align: top;\n",
       "    }\n",
       "\n",
       "    .dataframe thead th {\n",
       "        text-align: right;\n",
       "    }\n",
       "</style>\n",
       "<table border=\"1\" class=\"dataframe\">\n",
       "  <thead>\n",
       "    <tr style=\"text-align: right;\">\n",
       "      <th></th>\n",
       "      <th>id</th>\n",
       "      <th>subscriber_type</th>\n",
       "      <th>bikeid</th>\n",
       "      <th>start_time</th>\n",
       "      <th>start_station_id</th>\n",
       "      <th>start_station_name</th>\n",
       "      <th>end_station_id</th>\n",
       "      <th>end_station_name</th>\n",
       "      <th>duration_minutes</th>\n",
       "    </tr>\n",
       "  </thead>\n",
       "  <tbody>\n",
       "    <tr>\n",
       "      <th>0</th>\n",
       "      <td>9900293518</td>\n",
       "      <td>Walk Up</td>\n",
       "      <td>884</td>\n",
       "      <td>2015-10-04 21:12:20 UTC</td>\n",
       "      <td>1006</td>\n",
       "      <td>Zilker Park West</td>\n",
       "      <td>1006</td>\n",
       "      <td>Zilker Park West</td>\n",
       "      <td>1</td>\n",
       "    </tr>\n",
       "    <tr>\n",
       "      <th>1</th>\n",
       "      <td>9900293981</td>\n",
       "      <td>Local365</td>\n",
       "      <td>884</td>\n",
       "      <td>2015-10-04 21:12:10 UTC</td>\n",
       "      <td>1006</td>\n",
       "      <td>Zilker Park West</td>\n",
       "      <td>2576</td>\n",
       "      <td>Rainey @ River St</td>\n",
       "      <td>31</td>\n",
       "    </tr>\n",
       "    <tr>\n",
       "      <th>2</th>\n",
       "      <td>9900296733</td>\n",
       "      <td>Walk Up</td>\n",
       "      <td>884</td>\n",
       "      <td>2015-10-09 19:12:10 UTC</td>\n",
       "      <td>2712</td>\n",
       "      <td>Toomey Rd @ South Lamar</td>\n",
       "      <td>2536</td>\n",
       "      <td>Waller &amp; 6th St.</td>\n",
       "      <td>29</td>\n",
       "    </tr>\n",
       "    <tr>\n",
       "      <th>3</th>\n",
       "      <td>9900297658</td>\n",
       "      <td>Local365</td>\n",
       "      <td>884</td>\n",
       "      <td>2015-10-09 16:12:54 UTC</td>\n",
       "      <td>1007</td>\n",
       "      <td>Lavaca &amp; 6th</td>\n",
       "      <td>2712</td>\n",
       "      <td>Toomey Rd @ South Lamar</td>\n",
       "      <td>9</td>\n",
       "    </tr>\n",
       "    <tr>\n",
       "      <th>4</th>\n",
       "      <td>9900306591</td>\n",
       "      <td>Local365</td>\n",
       "      <td>884</td>\n",
       "      <td>2015-10-19 11:12:02 UTC</td>\n",
       "      <td>2823</td>\n",
       "      <td>Capital Metro HQ - East 5th at Broadway</td>\n",
       "      <td>2823</td>\n",
       "      <td>Capital Metro HQ - East 5th at Broadway</td>\n",
       "      <td>16</td>\n",
       "    </tr>\n",
       "    <tr>\n",
       "      <th>...</th>\n",
       "      <td>...</td>\n",
       "      <td>...</td>\n",
       "      <td>...</td>\n",
       "      <td>...</td>\n",
       "      <td>...</td>\n",
       "      <td>...</td>\n",
       "      <td>...</td>\n",
       "      <td>...</td>\n",
       "      <td>...</td>\n",
       "    </tr>\n",
       "    <tr>\n",
       "      <th>2602</th>\n",
       "      <td>23420128</td>\n",
       "      <td>Explorer</td>\n",
       "      <td>884</td>\n",
       "      <td>2021-01-16 15:20:21 UTC</td>\n",
       "      <td>4048</td>\n",
       "      <td>South Congress @ Bouldin Creek</td>\n",
       "      <td>2707</td>\n",
       "      <td>Rainey/Cummings</td>\n",
       "      <td>13</td>\n",
       "    </tr>\n",
       "    <tr>\n",
       "      <th>2603</th>\n",
       "      <td>23402510</td>\n",
       "      <td>Local31</td>\n",
       "      <td>884</td>\n",
       "      <td>2021-01-11 08:41:48 UTC</td>\n",
       "      <td>3841</td>\n",
       "      <td>23rd/Rio Grande</td>\n",
       "      <td>3377</td>\n",
       "      <td>Veterans/Atlanta @ MoPac Ped Bridge</td>\n",
       "      <td>19</td>\n",
       "    </tr>\n",
       "    <tr>\n",
       "      <th>2604</th>\n",
       "      <td>23374446</td>\n",
       "      <td>Single Trip (Pay-as-you-ride)</td>\n",
       "      <td>884</td>\n",
       "      <td>2021-01-02 14:04:12 UTC</td>\n",
       "      <td>2707</td>\n",
       "      <td>Rainey/Cummings</td>\n",
       "      <td>3455</td>\n",
       "      <td>4th/Guadalupe @ Republic Square</td>\n",
       "      <td>10</td>\n",
       "    </tr>\n",
       "    <tr>\n",
       "      <th>2605</th>\n",
       "      <td>23424085</td>\n",
       "      <td>24 Hour Walk Up Pass</td>\n",
       "      <td>884</td>\n",
       "      <td>2021-01-17 13:45:32 UTC</td>\n",
       "      <td>2707</td>\n",
       "      <td>Rainey/Cummings</td>\n",
       "      <td>3684</td>\n",
       "      <td>Cesar Chavez/Congress</td>\n",
       "      <td>124</td>\n",
       "    </tr>\n",
       "    <tr>\n",
       "      <th>2606</th>\n",
       "      <td>23429432</td>\n",
       "      <td>3-Day Weekender</td>\n",
       "      <td>884</td>\n",
       "      <td>2021-01-18 15:11:19 UTC</td>\n",
       "      <td>2503</td>\n",
       "      <td>South Congress/James</td>\n",
       "      <td>4054</td>\n",
       "      <td>Rosewood/Chicon</td>\n",
       "      <td>25</td>\n",
       "    </tr>\n",
       "  </tbody>\n",
       "</table>\n",
       "<p>2607 rows × 9 columns</p>\n",
       "</div>"
      ],
      "text/plain": [
       "              id                subscriber_type bikeid  \\\n",
       "0     9900293518                        Walk Up    884   \n",
       "1     9900293981                       Local365    884   \n",
       "2     9900296733                        Walk Up    884   \n",
       "3     9900297658                       Local365    884   \n",
       "4     9900306591                       Local365    884   \n",
       "...          ...                            ...    ...   \n",
       "2602    23420128                       Explorer    884   \n",
       "2603    23402510                        Local31    884   \n",
       "2604    23374446  Single Trip (Pay-as-you-ride)    884   \n",
       "2605    23424085           24 Hour Walk Up Pass    884   \n",
       "2606    23429432                3-Day Weekender    884   \n",
       "\n",
       "                   start_time start_station_id  \\\n",
       "0     2015-10-04 21:12:20 UTC             1006   \n",
       "1     2015-10-04 21:12:10 UTC             1006   \n",
       "2     2015-10-09 19:12:10 UTC             2712   \n",
       "3     2015-10-09 16:12:54 UTC             1007   \n",
       "4     2015-10-19 11:12:02 UTC             2823   \n",
       "...                       ...              ...   \n",
       "2602  2021-01-16 15:20:21 UTC             4048   \n",
       "2603  2021-01-11 08:41:48 UTC             3841   \n",
       "2604  2021-01-02 14:04:12 UTC             2707   \n",
       "2605  2021-01-17 13:45:32 UTC             2707   \n",
       "2606  2021-01-18 15:11:19 UTC             2503   \n",
       "\n",
       "                           start_station_name end_station_id  \\\n",
       "0                            Zilker Park West           1006   \n",
       "1                            Zilker Park West           2576   \n",
       "2                     Toomey Rd @ South Lamar           2536   \n",
       "3                                Lavaca & 6th           2712   \n",
       "4     Capital Metro HQ - East 5th at Broadway           2823   \n",
       "...                                       ...            ...   \n",
       "2602           South Congress @ Bouldin Creek           2707   \n",
       "2603                          23rd/Rio Grande           3377   \n",
       "2604                          Rainey/Cummings           3455   \n",
       "2605                          Rainey/Cummings           3684   \n",
       "2606                     South Congress/James           4054   \n",
       "\n",
       "                             end_station_name  duration_minutes  \n",
       "0                            Zilker Park West                 1  \n",
       "1                           Rainey @ River St                31  \n",
       "2                            Waller & 6th St.                29  \n",
       "3                     Toomey Rd @ South Lamar                 9  \n",
       "4     Capital Metro HQ - East 5th at Broadway                16  \n",
       "...                                       ...               ...  \n",
       "2602                          Rainey/Cummings                13  \n",
       "2603      Veterans/Atlanta @ MoPac Ped Bridge                19  \n",
       "2604          4th/Guadalupe @ Republic Square                10  \n",
       "2605                    Cesar Chavez/Congress               124  \n",
       "2606                          Rosewood/Chicon                25  \n",
       "\n",
       "[2607 rows x 9 columns]"
      ]
     },
     "execution_count": 36,
     "metadata": {},
     "output_type": "execute_result"
    }
   ],
   "source": [
    "result = pd.read_sql_query(query_bikeid, conn)\n",
    "result"
   ]
  },
  {
   "cell_type": "code",
   "execution_count": 37,
   "id": "fbce6fe8",
   "metadata": {},
   "outputs": [],
   "source": [
    "def get_trip_id(id, conn):\n",
    "    query_id = f\"\"\"SELECT * FROM trips WHERE id = {id}\"\"\"\n",
    "    result1 = pd.read_sql_query(query_id, conn)\n",
    "    return result1 \n",
    "\n",
    "def get_all_trips(conn):\n",
    "    query1 = f\"\"\"SELECT * FROM trips\"\"\"\n",
    "    result1 = pd.read_sql_query(query1, conn)\n",
    "    return result1\n",
    "\n",
    "def get_bikeid(bikeid, conn):\n",
    "    query_bikeid = f\"\"\"SELECT * FROM trips WHERE bikeid = {bikeid}\"\"\"\n",
    "    result2 = pd.read_sql_query(query_bikeid, conn)\n",
    "    return result2 "
   ]
  },
  {
   "cell_type": "markdown",
   "id": "b024e79d-c7db-43ca-a226-45e934c5cdc0",
   "metadata": {},
   "source": [
    "# Flask App"
   ]
  },
  {
   "cell_type": "markdown",
   "id": "d167587d-7e47-443c-b237-07f4201a6848",
   "metadata": {},
   "source": [
    "Flask is a micro-framework for python. Generally we can build any application out of it. To start with, let's make our first empy flask app. \n",
    "Creata a new file `app.py`, then copy-paste the following codes into it and save it. \n",
    "\n",
    "*Notes: it's recomended to use vscode as editor since it support vast linting supports, including python which we find really helpful in coding*"
   ]
  },
  {
   "cell_type": "markdown",
   "id": "fae662bf-4667-4b4c-a5a8-e8118d45e151",
   "metadata": {},
   "source": [
    "```python\n",
    "from flask import Flask, request\n",
    "app = Flask(__name__) \n",
    "\n",
    "if __name__ == '__main__':\n",
    "    app.run(debug=True, port=5000)\n",
    "```"
   ]
  },
  {
   "cell_type": "markdown",
   "id": "20a3e191-2d1d-42f2-b620-ab8d4535fe5f",
   "metadata": {},
   "source": [
    "To run the app, you can open your terminal, go to the specific folder and run `python app.py` using your designated virtual environment"
   ]
  },
  {
   "cell_type": "markdown",
   "id": "b7bd4362-55ad-48e7-9ed5-a9efb269d191",
   "metadata": {},
   "source": [
    "## Routes and Endpoints"
   ]
  },
  {
   "cell_type": "markdown",
   "id": "87f78576-5db9-40cc-9ccf-5f865caf0689",
   "metadata": {},
   "source": [
    "### Implement endpoints"
   ]
  },
  {
   "cell_type": "markdown",
   "id": "e52ff12b-2613-4a15-ad98-5cf8881eb5ed",
   "metadata": {},
   "source": [
    "If you succesfully run the previous app and access the localhost:5000 , you might get an 404 not found error. This is because we **have not** define yet what will happen if people accessing our root path of the app (localhost:5000/)\n",
    "\n",
    "Add the following example of route or endpoint into your `app.py` just before the `if __name__ === '__main__':` line, and reload the page to see if it works"
   ]
  },
  {
   "cell_type": "markdown",
   "id": "6870c3db-a88d-4ae6-a791-04f9e212f3f8",
   "metadata": {},
   "source": [
    "```python \n",
    "@app.route('/')\n",
    "def home():\n",
    "    return 'Hello World'\n",
    "```"
   ]
  },
  {
   "cell_type": "markdown",
   "id": "f23f1514-2ea7-4699-9b3c-b8ba2ee608eb",
   "metadata": {},
   "source": [
    "Above endpoints will runs the `home` function anytime user access the `/` page.\n",
    "\n",
    "Since we are going to handle all the requests through this app, the very next step is to implement our functionalites. Let's start with implementing the functionality to read all station data\n",
    "\n",
    "we will add the `get_all_stations()` functions into our app, create a `@app.route('/stations/')` endpoint and call the function in it. The code should looks like:\n",
    "\n",
    "```python \n",
    "@app.route('/stations/')\n",
    "def route_all_stations():\n",
    "    conn = make_connection()\n",
    "    stations = get_all_stations(conn)\n",
    "    return stations.to_json()\n",
    "    \n",
    "def get_all_stations(conn):\n",
    "    query = f\"\"\"SELECT * FROM stations\"\"\"\n",
    "    result = pd.read_sql_query(query, conn)\n",
    "    return result\n",
    "```"
   ]
  },
  {
   "cell_type": "markdown",
   "id": "11a81990-4add-4a66-8771-4832866f938b",
   "metadata": {},
   "source": [
    "However, adding just above codes is not enough. If you see, there is a dependency inside the function, which is `make_connection()` function. Other than that, we will be using all the required libraries. \n",
    "\n",
    "Hence, we can complete the code by : \n",
    "- import the required libraries at the top of the `app.py` file\n",
    "- write the `make_connection()` function before any routes declarations"
   ]
  },
  {
   "cell_type": "markdown",
   "id": "536b16f2-1cc4-4605-88ae-feee9cc6eec7",
   "metadata": {},
   "source": [
    "Once it's completed, you should see no errors in the vscode screen, and your endpoint should work just fine and returns all the stations. It's now your task to impelement the `get_all_trips` into the app "
   ]
  },
  {
   "cell_type": "markdown",
   "id": "c8eec277-fdd5-4367-83e5-f6916794b186",
   "metadata": {},
   "source": [
    "**TASK: Implement `get_all_trips()` method into the app** \\\n",
    "Place it under `@app.route('/trips/')` endpoint"
   ]
  },
  {
   "cell_type": "markdown",
   "id": "192cf9d4",
   "metadata": {},
   "source": [
    "```python \n",
    "@app.route('/trips/')\n",
    "def route_all_trips():\n",
    "    conn = make_connection()\n",
    "    trips = get_all_trips(conn)\n",
    "    return trips.to_json()\n",
    "```"
   ]
  },
  {
   "cell_type": "markdown",
   "id": "bc45734a-5d15-4e4c-837f-64ab1cafdde6",
   "metadata": {},
   "source": [
    "### Access Endpoints"
   ]
  },
  {
   "cell_type": "markdown",
   "id": "43143d5d-a361-4141-8f35-2b47f112075a",
   "metadata": {},
   "source": [
    "To access our endpoints using python, simply use `requests` library followed by the request method (post, get, put, delete, etc) the passed in the url or data "
   ]
  },
  {
   "cell_type": "markdown",
   "id": "c0c76d90",
   "metadata": {},
   "source": [
    "**/stations**"
   ]
  },
  {
   "cell_type": "code",
   "execution_count": 38,
   "id": "f1a3ebbe-591d-4b38-b858-6ef1ea787d74",
   "metadata": {},
   "outputs": [],
   "source": [
    "url = 'http://127.0.0.1:5001/stations/'\n",
    "res = requests.get(url)"
   ]
  },
  {
   "cell_type": "code",
   "execution_count": 39,
   "id": "64a3ec96",
   "metadata": {},
   "outputs": [
    {
     "data": {
      "text/plain": [
       "<Response [200]>"
      ]
     },
     "execution_count": 39,
     "metadata": {},
     "output_type": "execute_result"
    }
   ],
   "source": [
    "res"
   ]
  },
  {
   "cell_type": "markdown",
   "id": "9a74d722-50f9-4c1c-9fca-ab8708cf9848",
   "metadata": {},
   "source": [
    "The response sent by the server was not only contains bare data. It was packed as HTTP response, meaning that we need to unpack the response first  in order to get the data. we can use `res.json()` to obtain it, then use pandas to transform it into dataframe for readibility or future analysis purposes. "
   ]
  },
  {
   "cell_type": "code",
   "execution_count": 40,
   "id": "c2b40a51-3e8f-4991-b58e-70cb3b95f345",
   "metadata": {},
   "outputs": [
    {
     "data": {
      "text/html": [
       "<div>\n",
       "<style scoped>\n",
       "    .dataframe tbody tr th:only-of-type {\n",
       "        vertical-align: middle;\n",
       "    }\n",
       "\n",
       "    .dataframe tbody tr th {\n",
       "        vertical-align: top;\n",
       "    }\n",
       "\n",
       "    .dataframe thead th {\n",
       "        text-align: right;\n",
       "    }\n",
       "</style>\n",
       "<table border=\"1\" class=\"dataframe\">\n",
       "  <thead>\n",
       "    <tr style=\"text-align: right;\">\n",
       "      <th></th>\n",
       "      <th>station_id</th>\n",
       "      <th>name</th>\n",
       "      <th>status</th>\n",
       "      <th>address</th>\n",
       "      <th>alternate_name</th>\n",
       "      <th>city_asset_number</th>\n",
       "      <th>property_type</th>\n",
       "      <th>number_of_docks</th>\n",
       "      <th>power_type</th>\n",
       "      <th>footprint_length</th>\n",
       "      <th>footprint_width</th>\n",
       "      <th>notes</th>\n",
       "      <th>council_district</th>\n",
       "      <th>modified_date</th>\n",
       "    </tr>\n",
       "  </thead>\n",
       "  <tbody>\n",
       "    <tr>\n",
       "      <th>0</th>\n",
       "      <td>3464</td>\n",
       "      <td>Pease Park</td>\n",
       "      <td>closed</td>\n",
       "      <td>1155 Kingsbury St</td>\n",
       "      <td></td>\n",
       "      <td></td>\n",
       "      <td></td>\n",
       "      <td></td>\n",
       "      <td></td>\n",
       "      <td></td>\n",
       "      <td></td>\n",
       "      <td></td>\n",
       "      <td>9</td>\n",
       "      <td>2021-01-04T12:00:00Z</td>\n",
       "    </tr>\n",
       "    <tr>\n",
       "      <th>1</th>\n",
       "      <td>2536</td>\n",
       "      <td>Waller &amp; 6th St.</td>\n",
       "      <td>closed</td>\n",
       "      <td>602 Waller St.</td>\n",
       "      <td></td>\n",
       "      <td></td>\n",
       "      <td></td>\n",
       "      <td></td>\n",
       "      <td></td>\n",
       "      <td></td>\n",
       "      <td></td>\n",
       "      <td></td>\n",
       "      <td>3</td>\n",
       "      <td>2021-01-04T12:00:00Z</td>\n",
       "    </tr>\n",
       "    <tr>\n",
       "      <th>2</th>\n",
       "      <td>2538</td>\n",
       "      <td>Bullock Museum @ Congress &amp; MLK</td>\n",
       "      <td>closed</td>\n",
       "      <td>1881 Congress Ave.</td>\n",
       "      <td></td>\n",
       "      <td></td>\n",
       "      <td></td>\n",
       "      <td></td>\n",
       "      <td></td>\n",
       "      <td></td>\n",
       "      <td></td>\n",
       "      <td></td>\n",
       "      <td>1</td>\n",
       "      <td>2021-01-04T12:00:00Z</td>\n",
       "    </tr>\n",
       "    <tr>\n",
       "      <th>3</th>\n",
       "      <td>2541</td>\n",
       "      <td>State Capitol @ 14th &amp; Colorado</td>\n",
       "      <td>closed</td>\n",
       "      <td>206 W. 14th St.</td>\n",
       "      <td></td>\n",
       "      <td></td>\n",
       "      <td></td>\n",
       "      <td></td>\n",
       "      <td></td>\n",
       "      <td></td>\n",
       "      <td></td>\n",
       "      <td></td>\n",
       "      <td>1</td>\n",
       "      <td>2021-01-04T12:00:00Z</td>\n",
       "    </tr>\n",
       "    <tr>\n",
       "      <th>4</th>\n",
       "      <td>2545</td>\n",
       "      <td>ACC - Rio Grande &amp; 12th</td>\n",
       "      <td>closed</td>\n",
       "      <td>700 W. 12th St.</td>\n",
       "      <td></td>\n",
       "      <td></td>\n",
       "      <td></td>\n",
       "      <td></td>\n",
       "      <td></td>\n",
       "      <td></td>\n",
       "      <td></td>\n",
       "      <td></td>\n",
       "      <td>9</td>\n",
       "      <td>2021-01-04T12:00:00Z</td>\n",
       "    </tr>\n",
       "  </tbody>\n",
       "</table>\n",
       "</div>"
      ],
      "text/plain": [
       "   station_id                             name  status             address  \\\n",
       "0        3464                       Pease Park  closed   1155 Kingsbury St   \n",
       "1        2536                 Waller & 6th St.  closed      602 Waller St.   \n",
       "2        2538  Bullock Museum @ Congress & MLK  closed  1881 Congress Ave.   \n",
       "3        2541  State Capitol @ 14th & Colorado  closed     206 W. 14th St.   \n",
       "4        2545          ACC - Rio Grande & 12th  closed     700 W. 12th St.   \n",
       "\n",
       "  alternate_name city_asset_number property_type number_of_docks power_type  \\\n",
       "0                                                                             \n",
       "1                                                                             \n",
       "2                                                                             \n",
       "3                                                                             \n",
       "4                                                                             \n",
       "\n",
       "  footprint_length footprint_width notes  council_district  \\\n",
       "0                                                        9   \n",
       "1                                                        3   \n",
       "2                                                        1   \n",
       "3                                                        1   \n",
       "4                                                        9   \n",
       "\n",
       "          modified_date  \n",
       "0  2021-01-04T12:00:00Z  \n",
       "1  2021-01-04T12:00:00Z  \n",
       "2  2021-01-04T12:00:00Z  \n",
       "3  2021-01-04T12:00:00Z  \n",
       "4  2021-01-04T12:00:00Z  "
      ]
     },
     "execution_count": 40,
     "metadata": {},
     "output_type": "execute_result"
    }
   ],
   "source": [
    "pd.DataFrame(res.json()).head()"
   ]
  },
  {
   "cell_type": "markdown",
   "id": "652b911c",
   "metadata": {},
   "source": [
    "**/trips**"
   ]
  },
  {
   "cell_type": "code",
   "execution_count": 42,
   "id": "6e1c72a9",
   "metadata": {},
   "outputs": [],
   "source": [
    "url = 'http://127.0.0.1:5001/trips/'\n",
    "res = requests.get(url)"
   ]
  },
  {
   "cell_type": "code",
   "execution_count": 43,
   "id": "556a2478",
   "metadata": {},
   "outputs": [
    {
     "data": {
      "text/plain": [
       "<Response [200]>"
      ]
     },
     "execution_count": 43,
     "metadata": {},
     "output_type": "execute_result"
    }
   ],
   "source": [
    "res"
   ]
  },
  {
   "cell_type": "code",
   "execution_count": 44,
   "id": "207627ec",
   "metadata": {},
   "outputs": [
    {
     "data": {
      "text/html": [
       "<div>\n",
       "<style scoped>\n",
       "    .dataframe tbody tr th:only-of-type {\n",
       "        vertical-align: middle;\n",
       "    }\n",
       "\n",
       "    .dataframe tbody tr th {\n",
       "        vertical-align: top;\n",
       "    }\n",
       "\n",
       "    .dataframe thead th {\n",
       "        text-align: right;\n",
       "    }\n",
       "</style>\n",
       "<table border=\"1\" class=\"dataframe\">\n",
       "  <thead>\n",
       "    <tr style=\"text-align: right;\">\n",
       "      <th></th>\n",
       "      <th>id</th>\n",
       "      <th>subscriber_type</th>\n",
       "      <th>bikeid</th>\n",
       "      <th>start_time</th>\n",
       "      <th>start_station_id</th>\n",
       "      <th>start_station_name</th>\n",
       "      <th>end_station_id</th>\n",
       "      <th>end_station_name</th>\n",
       "      <th>duration_minutes</th>\n",
       "    </tr>\n",
       "  </thead>\n",
       "  <tbody>\n",
       "    <tr>\n",
       "      <th>0</th>\n",
       "      <td>9900289692</td>\n",
       "      <td>Walk Up</td>\n",
       "      <td>248</td>\n",
       "      <td>2015-10-02 21:12:01 UTC</td>\n",
       "      <td>1006</td>\n",
       "      <td>Zilker Park West</td>\n",
       "      <td>1008</td>\n",
       "      <td>Nueces @ 3rd</td>\n",
       "      <td>39</td>\n",
       "    </tr>\n",
       "    <tr>\n",
       "      <th>1</th>\n",
       "      <td>9900285987</td>\n",
       "      <td>24-Hour Kiosk (Austin B-cycle)</td>\n",
       "      <td>446</td>\n",
       "      <td>2014-10-26 15:12:00 UTC</td>\n",
       "      <td>2712</td>\n",
       "      <td>Toomey Rd @ South Lamar</td>\n",
       "      <td>2712</td>\n",
       "      <td>Toomey Rd @ South Lamar</td>\n",
       "      <td>31</td>\n",
       "    </tr>\n",
       "    <tr>\n",
       "      <th>2</th>\n",
       "      <td>9900285989</td>\n",
       "      <td>24-Hour Kiosk (Austin B-cycle)</td>\n",
       "      <td>203</td>\n",
       "      <td>2014-10-26 15:12:00 UTC</td>\n",
       "      <td>2712</td>\n",
       "      <td>Toomey Rd @ South Lamar</td>\n",
       "      <td>2712</td>\n",
       "      <td>Toomey Rd @ South Lamar</td>\n",
       "      <td>31</td>\n",
       "    </tr>\n",
       "    <tr>\n",
       "      <th>3</th>\n",
       "      <td>9900285991</td>\n",
       "      <td>24-Hour Kiosk (Austin B-cycle)</td>\n",
       "      <td>101</td>\n",
       "      <td>2014-10-26 15:12:00 UTC</td>\n",
       "      <td>2712</td>\n",
       "      <td>Toomey Rd @ South Lamar</td>\n",
       "      <td>2712</td>\n",
       "      <td>Toomey Rd @ South Lamar</td>\n",
       "      <td>30</td>\n",
       "    </tr>\n",
       "    <tr>\n",
       "      <th>4</th>\n",
       "      <td>9900286140</td>\n",
       "      <td>24-Hour Kiosk (Austin B-cycle)</td>\n",
       "      <td>242</td>\n",
       "      <td>2014-10-26 18:12:00 UTC</td>\n",
       "      <td>2541</td>\n",
       "      <td>State Capitol @ 14th &amp; Colorado</td>\n",
       "      <td>2541</td>\n",
       "      <td>State Capitol @ 14th &amp; Colorado</td>\n",
       "      <td>19</td>\n",
       "    </tr>\n",
       "  </tbody>\n",
       "</table>\n",
       "</div>"
      ],
      "text/plain": [
       "           id                 subscriber_type bikeid               start_time  \\\n",
       "0  9900289692                         Walk Up    248  2015-10-02 21:12:01 UTC   \n",
       "1  9900285987  24-Hour Kiosk (Austin B-cycle)    446  2014-10-26 15:12:00 UTC   \n",
       "2  9900285989  24-Hour Kiosk (Austin B-cycle)    203  2014-10-26 15:12:00 UTC   \n",
       "3  9900285991  24-Hour Kiosk (Austin B-cycle)    101  2014-10-26 15:12:00 UTC   \n",
       "4  9900286140  24-Hour Kiosk (Austin B-cycle)    242  2014-10-26 18:12:00 UTC   \n",
       "\n",
       "  start_station_id               start_station_name end_station_id  \\\n",
       "0             1006                 Zilker Park West           1008   \n",
       "1             2712          Toomey Rd @ South Lamar           2712   \n",
       "2             2712          Toomey Rd @ South Lamar           2712   \n",
       "3             2712          Toomey Rd @ South Lamar           2712   \n",
       "4             2541  State Capitol @ 14th & Colorado           2541   \n",
       "\n",
       "                  end_station_name  duration_minutes  \n",
       "0                     Nueces @ 3rd                39  \n",
       "1          Toomey Rd @ South Lamar                31  \n",
       "2          Toomey Rd @ South Lamar                31  \n",
       "3          Toomey Rd @ South Lamar                30  \n",
       "4  State Capitol @ 14th & Colorado                19  "
      ]
     },
     "execution_count": 44,
     "metadata": {},
     "output_type": "execute_result"
    }
   ],
   "source": [
    "pd.DataFrame(res.json()).head()"
   ]
  },
  {
   "cell_type": "markdown",
   "id": "adbd0b76-5fa5-4b0e-acfa-85774528130f",
   "metadata": {},
   "source": [
    "## Static and Dynamic Endpoints"
   ]
  },
  {
   "cell_type": "markdown",
   "id": "479eec15-63e3-421a-8227-0d46b6a7349c",
   "metadata": {},
   "source": [
    "On previous part we already made several endpoints which control how our server will react whenever users access it. \n",
    "If we take a look at the endpoints, it's all static : \n",
    "- `@app.route('/')`\n",
    "- `@app.route('/home/')`\n",
    "- `@app.route('/stations/')`\n",
    "- `@app.route('/trips/')`\n",
    "\n",
    "\n",
    "What if, instead of getting all the stations information, we only wanted to read a specific station information of station_id 3464 ? \\\n",
    "should we make an excact endpoint of that like `@app.route('stations/3464')`?. But what about the others? are we going to make a bunch of endpoints for each specific id like: \n",
    "- `@app.route('/stations/3464')`\n",
    "- `@app.route('/stations/2500')`\n",
    "- `@app.route('/stations/2541')`\n",
    "- and so on...\n",
    "\n",
    "Of course we shouldn't. One way to overcome the problem is by delcaring a **dynamic endpoints**. Basically, it's an endpoint which allows user to insert a variable values in it. The final looks of the dynamic endpoint version of above problem is: \n",
    "- `@app.route('stations/<station_id>')`\n",
    "\n",
    "From above endpoint, the \\<station_id\\> is the variable, and we need to make sure that it influence how our following function acts. The whole dynamic endpoints for getting specific station by its id will looks like: \n",
    "\n",
    "```python \n",
    "@app.route('/stations/<station_id>')\n",
    "def route_stations_id(station_id):\n",
    "    conn = make_connection()\n",
    "    station = get_station_id(station_id, conn)\n",
    "    return station.to_json()\n",
    "```"
   ]
  },
  {
   "cell_type": "markdown",
   "id": "c0e4bab7",
   "metadata": {},
   "source": [
    "**/stations/{station_id}**"
   ]
  },
  {
   "cell_type": "markdown",
   "id": "4a91fb67-4645-4097-b266-e1c8f77c8b5d",
   "metadata": {},
   "source": [
    "Before accesing the endpoint, make sure that `make_connection()` and `get_station_id()` functions are included inside `app.py` script so that it won't raise an error. Now for the final step, we can try to access the dynamic endpoints by changing the `station_id` in the following codes"
   ]
  },
  {
   "cell_type": "code",
   "execution_count": 45,
   "id": "3d97afd6-6673-46c2-9ea8-6920dca5eba4",
   "metadata": {},
   "outputs": [],
   "source": [
    "station_id = 2500\n",
    "url = f\"http://127.0.0.1:5001/stations/{station_id}\""
   ]
  },
  {
   "cell_type": "code",
   "execution_count": 46,
   "id": "9ba115d6",
   "metadata": {},
   "outputs": [
    {
     "data": {
      "text/plain": [
       "'http://127.0.0.1:5001/stations/2500'"
      ]
     },
     "execution_count": 46,
     "metadata": {},
     "output_type": "execute_result"
    }
   ],
   "source": [
    "url"
   ]
  },
  {
   "cell_type": "code",
   "execution_count": 47,
   "id": "c948b850-fd61-4e3c-9b54-45c8741c3d21",
   "metadata": {},
   "outputs": [
    {
     "data": {
      "text/html": [
       "<div>\n",
       "<style scoped>\n",
       "    .dataframe tbody tr th:only-of-type {\n",
       "        vertical-align: middle;\n",
       "    }\n",
       "\n",
       "    .dataframe tbody tr th {\n",
       "        vertical-align: top;\n",
       "    }\n",
       "\n",
       "    .dataframe thead th {\n",
       "        text-align: right;\n",
       "    }\n",
       "</style>\n",
       "<table border=\"1\" class=\"dataframe\">\n",
       "  <thead>\n",
       "    <tr style=\"text-align: right;\">\n",
       "      <th></th>\n",
       "      <th>station_id</th>\n",
       "      <th>name</th>\n",
       "      <th>status</th>\n",
       "      <th>address</th>\n",
       "      <th>alternate_name</th>\n",
       "      <th>city_asset_number</th>\n",
       "      <th>property_type</th>\n",
       "      <th>number_of_docks</th>\n",
       "      <th>power_type</th>\n",
       "      <th>footprint_length</th>\n",
       "      <th>footprint_width</th>\n",
       "      <th>notes</th>\n",
       "      <th>council_district</th>\n",
       "      <th>modified_date</th>\n",
       "    </tr>\n",
       "  </thead>\n",
       "  <tbody>\n",
       "    <tr>\n",
       "      <th>0</th>\n",
       "      <td>2500</td>\n",
       "      <td>Republic Square</td>\n",
       "      <td>closed</td>\n",
       "      <td>425 W 4th Street</td>\n",
       "      <td></td>\n",
       "      <td></td>\n",
       "      <td></td>\n",
       "      <td></td>\n",
       "      <td></td>\n",
       "      <td></td>\n",
       "      <td></td>\n",
       "      <td></td>\n",
       "      <td>9</td>\n",
       "      <td>2021-01-04T12:00:00Z</td>\n",
       "    </tr>\n",
       "  </tbody>\n",
       "</table>\n",
       "</div>"
      ],
      "text/plain": [
       "   station_id             name  status           address alternate_name  \\\n",
       "0        2500  Republic Square  closed  425 W 4th Street                  \n",
       "\n",
       "  city_asset_number property_type number_of_docks power_type footprint_length  \\\n",
       "0                                                                               \n",
       "\n",
       "  footprint_width notes  council_district         modified_date  \n",
       "0                                       9  2021-01-04T12:00:00Z  "
      ]
     },
     "execution_count": 47,
     "metadata": {},
     "output_type": "execute_result"
    }
   ],
   "source": [
    "response = requests.get(url)\n",
    "pd.DataFrame(response.json())"
   ]
  },
  {
   "cell_type": "markdown",
   "id": "ec41bde1",
   "metadata": {},
   "source": [
    "**/stations_name/'{name}'**"
   ]
  },
  {
   "cell_type": "markdown",
   "id": "f1fa56d7",
   "metadata": {},
   "source": [
    "```python\n",
    "@app.route('/stations_name/<name>')\n",
    "def route_stations_name(name):\n",
    "    conn=make_connection()\n",
    "    name=get_name(name, conn)\n",
    "    return name.to_json()\n",
    "```"
   ]
  },
  {
   "cell_type": "code",
   "execution_count": 48,
   "id": "fe592cef",
   "metadata": {},
   "outputs": [],
   "source": [
    "name = 'Pease Park'\n",
    "url = f\"http://127.0.0.1:5001/stations_name/'{name}'\""
   ]
  },
  {
   "cell_type": "code",
   "execution_count": 49,
   "id": "2b88e791",
   "metadata": {},
   "outputs": [
    {
     "data": {
      "text/plain": [
       "\"http://127.0.0.1:5001/stations_name/'Pease Park'\""
      ]
     },
     "execution_count": 49,
     "metadata": {},
     "output_type": "execute_result"
    }
   ],
   "source": [
    "url"
   ]
  },
  {
   "cell_type": "code",
   "execution_count": 50,
   "id": "21f54346",
   "metadata": {},
   "outputs": [
    {
     "data": {
      "text/html": [
       "<div>\n",
       "<style scoped>\n",
       "    .dataframe tbody tr th:only-of-type {\n",
       "        vertical-align: middle;\n",
       "    }\n",
       "\n",
       "    .dataframe tbody tr th {\n",
       "        vertical-align: top;\n",
       "    }\n",
       "\n",
       "    .dataframe thead th {\n",
       "        text-align: right;\n",
       "    }\n",
       "</style>\n",
       "<table border=\"1\" class=\"dataframe\">\n",
       "  <thead>\n",
       "    <tr style=\"text-align: right;\">\n",
       "      <th></th>\n",
       "      <th>station_id</th>\n",
       "      <th>name</th>\n",
       "      <th>status</th>\n",
       "      <th>address</th>\n",
       "      <th>alternate_name</th>\n",
       "      <th>city_asset_number</th>\n",
       "      <th>property_type</th>\n",
       "      <th>number_of_docks</th>\n",
       "      <th>power_type</th>\n",
       "      <th>footprint_length</th>\n",
       "      <th>footprint_width</th>\n",
       "      <th>notes</th>\n",
       "      <th>council_district</th>\n",
       "      <th>modified_date</th>\n",
       "    </tr>\n",
       "  </thead>\n",
       "  <tbody>\n",
       "    <tr>\n",
       "      <th>0</th>\n",
       "      <td>3464</td>\n",
       "      <td>Pease Park</td>\n",
       "      <td>closed</td>\n",
       "      <td>1155 Kingsbury St</td>\n",
       "      <td></td>\n",
       "      <td></td>\n",
       "      <td></td>\n",
       "      <td></td>\n",
       "      <td></td>\n",
       "      <td></td>\n",
       "      <td></td>\n",
       "      <td></td>\n",
       "      <td>9</td>\n",
       "      <td>2021-01-04T12:00:00Z</td>\n",
       "    </tr>\n",
       "  </tbody>\n",
       "</table>\n",
       "</div>"
      ],
      "text/plain": [
       "   station_id        name  status            address alternate_name  \\\n",
       "0        3464  Pease Park  closed  1155 Kingsbury St                  \n",
       "\n",
       "  city_asset_number property_type number_of_docks power_type footprint_length  \\\n",
       "0                                                                               \n",
       "\n",
       "  footprint_width notes  council_district         modified_date  \n",
       "0                                       9  2021-01-04T12:00:00Z  "
      ]
     },
     "execution_count": 50,
     "metadata": {},
     "output_type": "execute_result"
    }
   ],
   "source": [
    "response = requests.get(url)\n",
    "pd.DataFrame(response.json())"
   ]
  },
  {
   "cell_type": "markdown",
   "id": "7c5ca64f-b5ae-4fe3-890f-71419a69bfa3",
   "metadata": {},
   "source": [
    "**TASK: Implement dynamic endpoints to read specific trip by its trip_id!** \\\n",
    "Place it under `@app.route('/trips/<trip_id>')` endpoint"
   ]
  },
  {
   "cell_type": "markdown",
   "id": "bb28e5a9",
   "metadata": {},
   "source": [
    "**/trips/{id}**"
   ]
  },
  {
   "cell_type": "markdown",
   "id": "b65291cc",
   "metadata": {},
   "source": [
    "```python\n",
    "@app.route('/trips/<id>')\n",
    "def route_trips_id(id):\n",
    "    conn = make_connection()\n",
    "    trip = get_trip_id(id, conn)\n",
    "    return trip.to_json()\n",
    "```"
   ]
  },
  {
   "cell_type": "code",
   "execution_count": 51,
   "id": "7222aa2e",
   "metadata": {},
   "outputs": [],
   "source": [
    "id = 8270013\n",
    "url = f\"http://127.0.0.1:5001/trips/{id}\""
   ]
  },
  {
   "cell_type": "code",
   "execution_count": 52,
   "id": "0820aed7",
   "metadata": {},
   "outputs": [
    {
     "data": {
      "text/plain": [
       "'http://127.0.0.1:5001/trips/8270013'"
      ]
     },
     "execution_count": 52,
     "metadata": {},
     "output_type": "execute_result"
    }
   ],
   "source": [
    "url"
   ]
  },
  {
   "cell_type": "code",
   "execution_count": 53,
   "id": "044171dc",
   "metadata": {},
   "outputs": [
    {
     "data": {
      "text/html": [
       "<div>\n",
       "<style scoped>\n",
       "    .dataframe tbody tr th:only-of-type {\n",
       "        vertical-align: middle;\n",
       "    }\n",
       "\n",
       "    .dataframe tbody tr th {\n",
       "        vertical-align: top;\n",
       "    }\n",
       "\n",
       "    .dataframe thead th {\n",
       "        text-align: right;\n",
       "    }\n",
       "</style>\n",
       "<table border=\"1\" class=\"dataframe\">\n",
       "  <thead>\n",
       "    <tr style=\"text-align: right;\">\n",
       "      <th></th>\n",
       "      <th>id</th>\n",
       "      <th>subscriber_type</th>\n",
       "      <th>bikeid</th>\n",
       "      <th>start_time</th>\n",
       "      <th>start_station_id</th>\n",
       "      <th>start_station_name</th>\n",
       "      <th>end_station_id</th>\n",
       "      <th>end_station_name</th>\n",
       "      <th>duration_minutes</th>\n",
       "    </tr>\n",
       "  </thead>\n",
       "  <tbody>\n",
       "    <tr>\n",
       "      <th>0</th>\n",
       "      <td>8270013</td>\n",
       "      <td>Local365</td>\n",
       "      <td>884</td>\n",
       "      <td>2016-01-01 03:07:08 UTC</td>\n",
       "      <td>2567</td>\n",
       "      <td>Palmer Auditorium</td>\n",
       "      <td>2711</td>\n",
       "      <td>Barton Springs @ Kinney Ave</td>\n",
       "      <td>6</td>\n",
       "    </tr>\n",
       "  </tbody>\n",
       "</table>\n",
       "</div>"
      ],
      "text/plain": [
       "        id subscriber_type bikeid               start_time  start_station_id  \\\n",
       "0  8270013        Local365    884  2016-01-01 03:07:08 UTC              2567   \n",
       "\n",
       "  start_station_name  end_station_id             end_station_name  \\\n",
       "0  Palmer Auditorium            2711  Barton Springs @ Kinney Ave   \n",
       "\n",
       "   duration_minutes  \n",
       "0                 6  "
      ]
     },
     "execution_count": 53,
     "metadata": {},
     "output_type": "execute_result"
    }
   ],
   "source": [
    "response = requests.get(url)\n",
    "pd.DataFrame(response.json())"
   ]
  },
  {
   "cell_type": "markdown",
   "id": "a8c43fc3",
   "metadata": {},
   "source": [
    "**/trips_bikeid/{bikeid}**"
   ]
  },
  {
   "cell_type": "markdown",
   "id": "338de06b",
   "metadata": {},
   "source": [
    "```python\n",
    "@app.route('/trips/bikeid/<bikeid>')\n",
    "def route_trips_bikeid(bikeid):\n",
    "    conn=make_connection()\n",
    "    bikeid=get_bikeid(bikeid,conn)\n",
    "    return bikeid.to_json()\n",
    "```"
   ]
  },
  {
   "cell_type": "code",
   "execution_count": 54,
   "id": "191b6a86",
   "metadata": {},
   "outputs": [],
   "source": [
    "bikeid = 884\n",
    "url = f\"http://127.0.0.1:5001/trips_bikeid/{bikeid}\""
   ]
  },
  {
   "cell_type": "code",
   "execution_count": 55,
   "id": "e14c19ba",
   "metadata": {},
   "outputs": [
    {
     "data": {
      "text/plain": [
       "'http://127.0.0.1:5001/trips_bikeid/884'"
      ]
     },
     "execution_count": 55,
     "metadata": {},
     "output_type": "execute_result"
    }
   ],
   "source": [
    "url"
   ]
  },
  {
   "cell_type": "code",
   "execution_count": 56,
   "id": "7aab4929",
   "metadata": {},
   "outputs": [
    {
     "data": {
      "text/html": [
       "<div>\n",
       "<style scoped>\n",
       "    .dataframe tbody tr th:only-of-type {\n",
       "        vertical-align: middle;\n",
       "    }\n",
       "\n",
       "    .dataframe tbody tr th {\n",
       "        vertical-align: top;\n",
       "    }\n",
       "\n",
       "    .dataframe thead th {\n",
       "        text-align: right;\n",
       "    }\n",
       "</style>\n",
       "<table border=\"1\" class=\"dataframe\">\n",
       "  <thead>\n",
       "    <tr style=\"text-align: right;\">\n",
       "      <th></th>\n",
       "      <th>id</th>\n",
       "      <th>subscriber_type</th>\n",
       "      <th>bikeid</th>\n",
       "      <th>start_time</th>\n",
       "      <th>start_station_id</th>\n",
       "      <th>start_station_name</th>\n",
       "      <th>end_station_id</th>\n",
       "      <th>end_station_name</th>\n",
       "      <th>duration_minutes</th>\n",
       "    </tr>\n",
       "  </thead>\n",
       "  <tbody>\n",
       "    <tr>\n",
       "      <th>0</th>\n",
       "      <td>9900293518</td>\n",
       "      <td>Walk Up</td>\n",
       "      <td>884</td>\n",
       "      <td>2015-10-04 21:12:20 UTC</td>\n",
       "      <td>1006</td>\n",
       "      <td>Zilker Park West</td>\n",
       "      <td>1006</td>\n",
       "      <td>Zilker Park West</td>\n",
       "      <td>1</td>\n",
       "    </tr>\n",
       "    <tr>\n",
       "      <th>1</th>\n",
       "      <td>9900293981</td>\n",
       "      <td>Local365</td>\n",
       "      <td>884</td>\n",
       "      <td>2015-10-04 21:12:10 UTC</td>\n",
       "      <td>1006</td>\n",
       "      <td>Zilker Park West</td>\n",
       "      <td>2576</td>\n",
       "      <td>Rainey @ River St</td>\n",
       "      <td>31</td>\n",
       "    </tr>\n",
       "    <tr>\n",
       "      <th>2</th>\n",
       "      <td>9900296733</td>\n",
       "      <td>Walk Up</td>\n",
       "      <td>884</td>\n",
       "      <td>2015-10-09 19:12:10 UTC</td>\n",
       "      <td>2712</td>\n",
       "      <td>Toomey Rd @ South Lamar</td>\n",
       "      <td>2536</td>\n",
       "      <td>Waller &amp; 6th St.</td>\n",
       "      <td>29</td>\n",
       "    </tr>\n",
       "    <tr>\n",
       "      <th>3</th>\n",
       "      <td>9900297658</td>\n",
       "      <td>Local365</td>\n",
       "      <td>884</td>\n",
       "      <td>2015-10-09 16:12:54 UTC</td>\n",
       "      <td>1007</td>\n",
       "      <td>Lavaca &amp; 6th</td>\n",
       "      <td>2712</td>\n",
       "      <td>Toomey Rd @ South Lamar</td>\n",
       "      <td>9</td>\n",
       "    </tr>\n",
       "    <tr>\n",
       "      <th>4</th>\n",
       "      <td>9900306591</td>\n",
       "      <td>Local365</td>\n",
       "      <td>884</td>\n",
       "      <td>2015-10-19 11:12:02 UTC</td>\n",
       "      <td>2823</td>\n",
       "      <td>Capital Metro HQ - East 5th at Broadway</td>\n",
       "      <td>2823</td>\n",
       "      <td>Capital Metro HQ - East 5th at Broadway</td>\n",
       "      <td>16</td>\n",
       "    </tr>\n",
       "    <tr>\n",
       "      <th>...</th>\n",
       "      <td>...</td>\n",
       "      <td>...</td>\n",
       "      <td>...</td>\n",
       "      <td>...</td>\n",
       "      <td>...</td>\n",
       "      <td>...</td>\n",
       "      <td>...</td>\n",
       "      <td>...</td>\n",
       "      <td>...</td>\n",
       "    </tr>\n",
       "    <tr>\n",
       "      <th>2602</th>\n",
       "      <td>23420128</td>\n",
       "      <td>Explorer</td>\n",
       "      <td>884</td>\n",
       "      <td>2021-01-16 15:20:21 UTC</td>\n",
       "      <td>4048</td>\n",
       "      <td>South Congress @ Bouldin Creek</td>\n",
       "      <td>2707</td>\n",
       "      <td>Rainey/Cummings</td>\n",
       "      <td>13</td>\n",
       "    </tr>\n",
       "    <tr>\n",
       "      <th>2603</th>\n",
       "      <td>23402510</td>\n",
       "      <td>Local31</td>\n",
       "      <td>884</td>\n",
       "      <td>2021-01-11 08:41:48 UTC</td>\n",
       "      <td>3841</td>\n",
       "      <td>23rd/Rio Grande</td>\n",
       "      <td>3377</td>\n",
       "      <td>Veterans/Atlanta @ MoPac Ped Bridge</td>\n",
       "      <td>19</td>\n",
       "    </tr>\n",
       "    <tr>\n",
       "      <th>2604</th>\n",
       "      <td>23374446</td>\n",
       "      <td>Single Trip (Pay-as-you-ride)</td>\n",
       "      <td>884</td>\n",
       "      <td>2021-01-02 14:04:12 UTC</td>\n",
       "      <td>2707</td>\n",
       "      <td>Rainey/Cummings</td>\n",
       "      <td>3455</td>\n",
       "      <td>4th/Guadalupe @ Republic Square</td>\n",
       "      <td>10</td>\n",
       "    </tr>\n",
       "    <tr>\n",
       "      <th>2605</th>\n",
       "      <td>23424085</td>\n",
       "      <td>24 Hour Walk Up Pass</td>\n",
       "      <td>884</td>\n",
       "      <td>2021-01-17 13:45:32 UTC</td>\n",
       "      <td>2707</td>\n",
       "      <td>Rainey/Cummings</td>\n",
       "      <td>3684</td>\n",
       "      <td>Cesar Chavez/Congress</td>\n",
       "      <td>124</td>\n",
       "    </tr>\n",
       "    <tr>\n",
       "      <th>2606</th>\n",
       "      <td>23429432</td>\n",
       "      <td>3-Day Weekender</td>\n",
       "      <td>884</td>\n",
       "      <td>2021-01-18 15:11:19 UTC</td>\n",
       "      <td>2503</td>\n",
       "      <td>South Congress/James</td>\n",
       "      <td>4054</td>\n",
       "      <td>Rosewood/Chicon</td>\n",
       "      <td>25</td>\n",
       "    </tr>\n",
       "  </tbody>\n",
       "</table>\n",
       "<p>2607 rows × 9 columns</p>\n",
       "</div>"
      ],
      "text/plain": [
       "              id                subscriber_type bikeid  \\\n",
       "0     9900293518                        Walk Up    884   \n",
       "1     9900293981                       Local365    884   \n",
       "2     9900296733                        Walk Up    884   \n",
       "3     9900297658                       Local365    884   \n",
       "4     9900306591                       Local365    884   \n",
       "...          ...                            ...    ...   \n",
       "2602    23420128                       Explorer    884   \n",
       "2603    23402510                        Local31    884   \n",
       "2604    23374446  Single Trip (Pay-as-you-ride)    884   \n",
       "2605    23424085           24 Hour Walk Up Pass    884   \n",
       "2606    23429432                3-Day Weekender    884   \n",
       "\n",
       "                   start_time start_station_id  \\\n",
       "0     2015-10-04 21:12:20 UTC             1006   \n",
       "1     2015-10-04 21:12:10 UTC             1006   \n",
       "2     2015-10-09 19:12:10 UTC             2712   \n",
       "3     2015-10-09 16:12:54 UTC             1007   \n",
       "4     2015-10-19 11:12:02 UTC             2823   \n",
       "...                       ...              ...   \n",
       "2602  2021-01-16 15:20:21 UTC             4048   \n",
       "2603  2021-01-11 08:41:48 UTC             3841   \n",
       "2604  2021-01-02 14:04:12 UTC             2707   \n",
       "2605  2021-01-17 13:45:32 UTC             2707   \n",
       "2606  2021-01-18 15:11:19 UTC             2503   \n",
       "\n",
       "                           start_station_name end_station_id  \\\n",
       "0                            Zilker Park West           1006   \n",
       "1                            Zilker Park West           2576   \n",
       "2                     Toomey Rd @ South Lamar           2536   \n",
       "3                                Lavaca & 6th           2712   \n",
       "4     Capital Metro HQ - East 5th at Broadway           2823   \n",
       "...                                       ...            ...   \n",
       "2602           South Congress @ Bouldin Creek           2707   \n",
       "2603                          23rd/Rio Grande           3377   \n",
       "2604                          Rainey/Cummings           3455   \n",
       "2605                          Rainey/Cummings           3684   \n",
       "2606                     South Congress/James           4054   \n",
       "\n",
       "                             end_station_name  duration_minutes  \n",
       "0                            Zilker Park West                 1  \n",
       "1                           Rainey @ River St                31  \n",
       "2                            Waller & 6th St.                29  \n",
       "3                     Toomey Rd @ South Lamar                 9  \n",
       "4     Capital Metro HQ - East 5th at Broadway                16  \n",
       "...                                       ...               ...  \n",
       "2602                          Rainey/Cummings                13  \n",
       "2603      Veterans/Atlanta @ MoPac Ped Bridge                19  \n",
       "2604          4th/Guadalupe @ Republic Square                10  \n",
       "2605                    Cesar Chavez/Congress               124  \n",
       "2606                          Rosewood/Chicon                25  \n",
       "\n",
       "[2607 rows x 9 columns]"
      ]
     },
     "execution_count": 56,
     "metadata": {},
     "output_type": "execute_result"
    }
   ],
   "source": [
    "response = requests.get(url)\n",
    "pd.DataFrame(response.json())"
   ]
  },
  {
   "cell_type": "markdown",
   "id": "52ec2ce8-6950-4c20-9bdb-38e35311d26a",
   "metadata": {},
   "source": [
    "## Handling JSON data as input"
   ]
  },
  {
   "cell_type": "markdown",
   "id": "d694cb3a-c753-4aeb-880f-458236146532",
   "metadata": {},
   "source": [
    "Sometimes, in order to make something happens in our API, we need the user to send us the data. In this case, we need to handle how we can get the data (which mostly sent as json format) and utilize it inside our endpoint functions. \n",
    "\n",
    "In order to achieve that, we will be using flask's `request` classes.\n",
    "\n",
    "\n",
    "```python\n",
    "@app.route('/json') \n",
    "def json_example():\n",
    "    \n",
    "    req = request.get_json(force=True) # Parse the incoming json data as Dictionary\n",
    "    \n",
    "    name = req['name']\n",
    "    age = req['age']\n",
    "    address = req['address']\n",
    "    \n",
    "    return (f'''Hello {name}, your age is {age}, and your address in {address}\n",
    "            ''')\n",
    "```"
   ]
  },
  {
   "cell_type": "markdown",
   "id": "5d04d252",
   "metadata": {},
   "source": [
    "**POST ENDPOINT**"
   ]
  },
  {
   "cell_type": "code",
   "execution_count": 57,
   "id": "33519e1a-3cd1-4abc-9a20-c2d981fad894",
   "metadata": {},
   "outputs": [],
   "source": [
    "data = {\n",
    "    \"name\" : \"Andi\", \n",
    "    \"age\" : 24,\n",
    "    \"address\" : \"my adress\"\n",
    "}\n",
    "\n",
    "url = \"http://127.0.0.1:5001/json\""
   ]
  },
  {
   "cell_type": "code",
   "execution_count": 58,
   "id": "9b66724f-6439-4aec-a8b5-48b4a781521b",
   "metadata": {},
   "outputs": [],
   "source": [
    "res = requests.post(url, json=data)"
   ]
  },
  {
   "cell_type": "code",
   "execution_count": 59,
   "id": "3e0f21c9-402a-4b12-bcc7-4c4534f23e5c",
   "metadata": {},
   "outputs": [
    {
     "data": {
      "text/plain": [
       "<Response [200]>"
      ]
     },
     "execution_count": 59,
     "metadata": {},
     "output_type": "execute_result"
    }
   ],
   "source": [
    "res"
   ]
  },
  {
   "cell_type": "code",
   "execution_count": 60,
   "id": "59d76173-58d9-4e38-a50d-a1ac72c3519f",
   "metadata": {},
   "outputs": [
    {
     "data": {
      "text/plain": [
       "'Hello Andi, your age is 24, and your address in my adress'"
      ]
     },
     "execution_count": 60,
     "metadata": {},
     "output_type": "execute_result"
    }
   ],
   "source": [
    "res.text"
   ]
  },
  {
   "cell_type": "markdown",
   "id": "188e3467-bff8-4919-bc90-a86cb8c4eaff",
   "metadata": {},
   "source": [
    "Now that we already know how to handle json input, we can try to implement and endpoint in which we can insert new data into `stations` table. "
   ]
  },
  {
   "cell_type": "markdown",
   "id": "1729b881-beac-48ef-bc19-01cda9a6d77a",
   "metadata": {},
   "source": [
    "```python\n",
    "@app.route('/stations/add', methods=['POST']) \n",
    "def route_add_station():\n",
    "    # parse and transform incoming data into a tuple as we need \n",
    "    data = pd.Series(eval(request.get_json(force=True)))\n",
    "    data = tuple(data.fillna('').values)\n",
    "    \n",
    "    conn = make_connection()\n",
    "    result = insert_into_stations(data, conn)\n",
    "    return result\n",
    "```"
   ]
  },
  {
   "cell_type": "code",
   "execution_count": 61,
   "id": "00348fc5-105b-41c7-a5e6-e69e1c19b4fa",
   "metadata": {},
   "outputs": [],
   "source": [
    "class NpEncoder(json.JSONEncoder):\n",
    "    def default(self, obj):\n",
    "        if isinstance(obj, np.integer):\n",
    "            return int(obj)\n",
    "        if isinstance(obj, np.floating):\n",
    "            return float(obj)\n",
    "        if isinstance(obj, np.ndarray):\n",
    "            return obj.tolist()\n",
    "        return super(NpEncoder, self).default(obj)"
   ]
  },
  {
   "cell_type": "code",
   "execution_count": 62,
   "id": "12746054-6c95-4a95-a6a0-37a2dc24c347",
   "metadata": {},
   "outputs": [],
   "source": [
    "data = stations.iloc[3].fillna('').to_dict()\n",
    "data_json = json.dumps(data, cls=NpEncoder)"
   ]
  },
  {
   "cell_type": "code",
   "execution_count": 63,
   "id": "dd88ba5f",
   "metadata": {
    "scrolled": true
   },
   "outputs": [
    {
     "data": {
      "text/plain": [
       "'{\"station_id\": 2538, \"name\": \"Bullock Museum @ Congress & MLK\", \"status\": \"closed\", \"address\": \"1881 Congress Ave.\", \"alternate_name\": \"\", \"city_asset_number\": \"\", \"property_type\": \"\", \"number_of_docks\": \"\", \"power_type\": \"\", \"footprint_length\": \"\", \"footprint_width\": \"\", \"notes\": \"\", \"council_district\": 1, \"modified_date\": \"2021-01-04T12:00:00Z\"}'"
      ]
     },
     "execution_count": 63,
     "metadata": {},
     "output_type": "execute_result"
    }
   ],
   "source": [
    "data_json"
   ]
  },
  {
   "cell_type": "code",
   "execution_count": 64,
   "id": "b9eef315-96d2-46e3-b5ab-07d34e299629",
   "metadata": {},
   "outputs": [],
   "source": [
    "url = \"http://127.0.0.1:5001/stations/add\"\n",
    "res = requests.post(url, json=data_json)"
   ]
  },
  {
   "cell_type": "code",
   "execution_count": 65,
   "id": "fa80e62f-75c4-47f5-a0fb-3eaa08200b66",
   "metadata": {},
   "outputs": [
    {
     "data": {
      "text/plain": [
       "<Response [200]>"
      ]
     },
     "execution_count": 65,
     "metadata": {},
     "output_type": "execute_result"
    }
   ],
   "source": [
    "res"
   ]
  },
  {
   "cell_type": "code",
   "execution_count": 66,
   "id": "8996edb2",
   "metadata": {},
   "outputs": [
    {
     "data": {
      "text/plain": [
       "'OK'"
      ]
     },
     "execution_count": 66,
     "metadata": {},
     "output_type": "execute_result"
    }
   ],
   "source": [
    "res.text"
   ]
  },
  {
   "cell_type": "code",
   "execution_count": 67,
   "id": "7a0d3ece-e370-4861-9c03-31361c394c01",
   "metadata": {},
   "outputs": [
    {
     "name": "stderr",
     "output_type": "stream",
     "text": [
      "98it [00:08, 11.63it/s]\n"
     ]
    }
   ],
   "source": [
    "# Sintaks for iteratively insert stations (from stations_csv) into stations table\n",
    "\n",
    "for idx, data in tqdm(stations.iterrows()):\n",
    "    data = data.fillna('').to_dict()\n",
    "    data_json = json.dumps(data, cls=NpEncoder)\n",
    "    \n",
    "    url = \"http://127.0.0.1:5001/stations/add\"\n",
    "    res = requests.post(url, json=data_json)"
   ]
  },
  {
   "cell_type": "markdown",
   "id": "f7d0f146-9af5-4873-816e-d7a1990d0d2e",
   "metadata": {},
   "source": [
    "**TASK: Using the API, insert all the trips data (in csv) into the database by running the following codes**\\\n",
    "It might run differently on each devices, so you might get some rest while waiting for it to complete"
   ]
  },
  {
   "cell_type": "markdown",
   "id": "46ec50da",
   "metadata": {},
   "source": [
    "```python\n",
    "@app.route('/trips/add', methods = ['POST']) \n",
    "def route_add_trip():\n",
    "    data = pd.Series(eval(request.get_json(force=True)))\n",
    "    data = tuple(data.fillna('').values)\n",
    "\n",
    "    conn = make_connection()\n",
    "    result = insert_into_trips(data, conn)\n",
    "    return result\n",
    "```"
   ]
  },
  {
   "cell_type": "code",
   "execution_count": null,
   "id": "17c448a8",
   "metadata": {},
   "outputs": [],
   "source": [
    "class NpEncoder(json.JSONEncoder):\n",
    "    def default(self, obj):\n",
    "        if isinstance(obj, np.integer):\n",
    "            return int(obj)\n",
    "        if isinstance(obj, np.floating):\n",
    "            return float(obj)\n",
    "        if isinstance(obj, np.ndarray):\n",
    "            return obj.tolist()\n",
    "        return super(NpEncoder, self).default(obj)"
   ]
  },
  {
   "cell_type": "code",
   "execution_count": null,
   "id": "34567d62",
   "metadata": {},
   "outputs": [],
   "source": [
    "data = trips.iloc[10].fillna('').to_dict()\n",
    "data_json = json.dumps(data, cls=NpEncoder)"
   ]
  },
  {
   "cell_type": "code",
   "execution_count": null,
   "id": "65caaf18",
   "metadata": {},
   "outputs": [],
   "source": [
    "data_json"
   ]
  },
  {
   "cell_type": "code",
   "execution_count": null,
   "id": "85189259",
   "metadata": {},
   "outputs": [],
   "source": [
    "url = \"http://127.0.0.1:5001/trips/add\"\n",
    "res = requests.post(url, json=data_json)"
   ]
  },
  {
   "cell_type": "code",
   "execution_count": null,
   "id": "4e4f6d81",
   "metadata": {},
   "outputs": [],
   "source": [
    "res"
   ]
  },
  {
   "cell_type": "code",
   "execution_count": null,
   "id": "b0788718",
   "metadata": {},
   "outputs": [],
   "source": [
    "res.text"
   ]
  },
  {
   "cell_type": "code",
   "execution_count": null,
   "id": "f943160a-230d-4548-8685-25c17d8f0641",
   "metadata": {},
   "outputs": [],
   "source": [
    "# Sintaks for iteratively insert trips (from trips_csv) into trips table\n",
    "for idx, data in tqdm(trips.iterrows()):\n",
    "    data = data.fillna('').to_dict()\n",
    "    data_json = json.dumps(data, cls=NpEncoder)\n",
    "    \n",
    "    url = \"http://127.0.0.1:5001/trips/add\"\n",
    "    res = requests.post(url, json=data_json)"
   ]
  },
  {
   "cell_type": "markdown",
   "id": "e9ca0d0f-f38d-4ce2-b7e2-961452ab315e",
   "metadata": {},
   "source": [
    "# Make your own analytic endpoints"
   ]
  },
  {
   "cell_type": "markdown",
   "id": "7a8500f2-9e2f-4515-8ce1-ce4a581132b5",
   "metadata": {},
   "source": [
    "Based on what we've learned before, create your own endpoints which returns analytical result such as contigency tables, aggregation tables, or even just a values.\n",
    "\n",
    "*ps: if the return is dataframe/series, don't forget to change it into json with `.to_json()` method*"
   ]
  },
  {
   "cell_type": "markdown",
   "id": "ce22ac68-1a8d-4030-9a9a-1764a074dde5",
   "metadata": {},
   "source": [
    "\n",
    "- [x] 1 point - Created Flask App\n",
    "- [x] 4 points - Created functionality to input new data into each table for the databases\n",
    "- [x] 2 poitns - Created functionality to read or get specific data from the database\n",
    "- [ ] 3 points - Created static endpoints which return analytical result (must be different from point 2,3)\n",
    "- [ ] 3 points - Created dynamic endpoints which return analytical result (must be different from point 2,3,4)\n",
    "- [ ] 3 points - Created POST endpoint which receive input data, then utilize it to get analytical result (must be different from point 2,3,4,5)\n"
   ]
  },
  {
   "cell_type": "markdown",
   "id": "9349b196-e43e-4bbc-8d71-75c2f957d9af",
   "metadata": {},
   "source": [
    "## Create Static Endpoint(s)"
   ]
  },
  {
   "cell_type": "markdown",
   "id": "0ba0e764-89a5-4189-a24a-837c8fbf304c",
   "metadata": {},
   "source": [
    "You can use the following cell to try-out your function before implementing it as an endpoint"
   ]
  },
  {
   "cell_type": "markdown",
   "id": "ea9355c5",
   "metadata": {},
   "source": [
    "**/trips/average_duration**"
   ]
  },
  {
   "cell_type": "markdown",
   "id": "1d7e2604",
   "metadata": {},
   "source": [
    "```python\n",
    "@app.route('/trips/average_duration')\n",
    "def route_average_duration1():\n",
    "    conn = make_connection()\n",
    "    trips = get_average_duration1(conn)\n",
    "    return trips.to_json()\n",
    "```"
   ]
  },
  {
   "cell_type": "code",
   "execution_count": 68,
   "id": "21bc702f",
   "metadata": {},
   "outputs": [],
   "source": [
    "def get_average_duration(conn):\n",
    "    query=f\"\"\"SELECT start_station_name,avg(duration_minutes) as average_duration\n",
    "    from trips \n",
    "    group by start_station_name\"\"\"\n",
    "    result=pd.read_sql_query(query,conn)\n",
    "    return result"
   ]
  },
  {
   "cell_type": "code",
   "execution_count": 69,
   "id": "544879da",
   "metadata": {},
   "outputs": [
    {
     "data": {
      "text/html": [
       "<div>\n",
       "<style scoped>\n",
       "    .dataframe tbody tr th:only-of-type {\n",
       "        vertical-align: middle;\n",
       "    }\n",
       "\n",
       "    .dataframe tbody tr th {\n",
       "        vertical-align: top;\n",
       "    }\n",
       "\n",
       "    .dataframe thead th {\n",
       "        text-align: right;\n",
       "    }\n",
       "</style>\n",
       "<table border=\"1\" class=\"dataframe\">\n",
       "  <thead>\n",
       "    <tr style=\"text-align: right;\">\n",
       "      <th></th>\n",
       "      <th>start_station_name</th>\n",
       "      <th>average_duration</th>\n",
       "    </tr>\n",
       "  </thead>\n",
       "  <tbody>\n",
       "    <tr>\n",
       "      <th>0</th>\n",
       "      <td>10th &amp; Red River</td>\n",
       "      <td>46.033708</td>\n",
       "    </tr>\n",
       "    <tr>\n",
       "      <th>1</th>\n",
       "      <td>10th/Red River</td>\n",
       "      <td>50.798193</td>\n",
       "    </tr>\n",
       "    <tr>\n",
       "      <th>2</th>\n",
       "      <td>11th &amp; Salina</td>\n",
       "      <td>56.659274</td>\n",
       "    </tr>\n",
       "    <tr>\n",
       "      <th>3</th>\n",
       "      <td>11th &amp; Salina</td>\n",
       "      <td>60.907135</td>\n",
       "    </tr>\n",
       "    <tr>\n",
       "      <th>4</th>\n",
       "      <td>11th &amp; San Jacinto</td>\n",
       "      <td>24.659501</td>\n",
       "    </tr>\n",
       "    <tr>\n",
       "      <th>...</th>\n",
       "      <td>...</td>\n",
       "      <td>...</td>\n",
       "    </tr>\n",
       "    <tr>\n",
       "      <th>191</th>\n",
       "      <td>West &amp; 6th St.</td>\n",
       "      <td>28.106093</td>\n",
       "    </tr>\n",
       "    <tr>\n",
       "      <th>192</th>\n",
       "      <td>Zilker Park</td>\n",
       "      <td>45.559762</td>\n",
       "    </tr>\n",
       "    <tr>\n",
       "      <th>193</th>\n",
       "      <td>Zilker Park West</td>\n",
       "      <td>27.168259</td>\n",
       "    </tr>\n",
       "    <tr>\n",
       "      <th>194</th>\n",
       "      <td>Zilker Park at Barton Springs &amp; William Barton...</td>\n",
       "      <td>36.292353</td>\n",
       "    </tr>\n",
       "    <tr>\n",
       "      <th>195</th>\n",
       "      <td>cesar Chavez/Congress</td>\n",
       "      <td>114.000000</td>\n",
       "    </tr>\n",
       "  </tbody>\n",
       "</table>\n",
       "<p>196 rows × 2 columns</p>\n",
       "</div>"
      ],
      "text/plain": [
       "                                    start_station_name  average_duration\n",
       "0                                     10th & Red River         46.033708\n",
       "1                                       10th/Red River         50.798193\n",
       "2                                        11th & Salina         56.659274\n",
       "3                                       11th & Salina          60.907135\n",
       "4                                   11th & San Jacinto         24.659501\n",
       "..                                                 ...               ...\n",
       "191                                     West & 6th St.         28.106093\n",
       "192                                        Zilker Park         45.559762\n",
       "193                                   Zilker Park West         27.168259\n",
       "194  Zilker Park at Barton Springs & William Barton...         36.292353\n",
       "195                              cesar Chavez/Congress        114.000000\n",
       "\n",
       "[196 rows x 2 columns]"
      ]
     },
     "execution_count": 69,
     "metadata": {},
     "output_type": "execute_result"
    }
   ],
   "source": [
    "get_average_duration(conn)"
   ]
  },
  {
   "cell_type": "markdown",
   "id": "54e532f6",
   "metadata": {},
   "source": [
    "**/trips/total_duration**"
   ]
  },
  {
   "cell_type": "markdown",
   "id": "69509777",
   "metadata": {},
   "source": [
    "```python\n",
    "@app.route('/trips/total_duration')\n",
    "def route_total_duration():\n",
    "    conn = make_connection()\n",
    "    trips = get_total_duration(conn)\n",
    "    return trips.to_json()\n",
    "```"
   ]
  },
  {
   "cell_type": "code",
   "execution_count": 70,
   "id": "518538e1",
   "metadata": {},
   "outputs": [],
   "source": [
    "def get_total_duration(conn):\n",
    "    query=f\"\"\"SELECT start_station_name,sum(duration_minutes) as total_duration\n",
    "    from trips \n",
    "    group by start_station_name\"\"\"\n",
    "    result=pd.read_sql_query(query,conn)\n",
    "    return result"
   ]
  },
  {
   "cell_type": "code",
   "execution_count": 71,
   "id": "17ada82f",
   "metadata": {},
   "outputs": [
    {
     "data": {
      "text/html": [
       "<div>\n",
       "<style scoped>\n",
       "    .dataframe tbody tr th:only-of-type {\n",
       "        vertical-align: middle;\n",
       "    }\n",
       "\n",
       "    .dataframe tbody tr th {\n",
       "        vertical-align: top;\n",
       "    }\n",
       "\n",
       "    .dataframe thead th {\n",
       "        text-align: right;\n",
       "    }\n",
       "</style>\n",
       "<table border=\"1\" class=\"dataframe\">\n",
       "  <thead>\n",
       "    <tr style=\"text-align: right;\">\n",
       "      <th></th>\n",
       "      <th>start_station_name</th>\n",
       "      <th>total_duration</th>\n",
       "    </tr>\n",
       "  </thead>\n",
       "  <tbody>\n",
       "    <tr>\n",
       "      <th>0</th>\n",
       "      <td>10th &amp; Red River</td>\n",
       "      <td>16388</td>\n",
       "    </tr>\n",
       "    <tr>\n",
       "      <th>1</th>\n",
       "      <td>10th/Red River</td>\n",
       "      <td>16865</td>\n",
       "    </tr>\n",
       "    <tr>\n",
       "      <th>2</th>\n",
       "      <td>11th &amp; Salina</td>\n",
       "      <td>28103</td>\n",
       "    </tr>\n",
       "    <tr>\n",
       "      <th>3</th>\n",
       "      <td>11th &amp; Salina</td>\n",
       "      <td>53781</td>\n",
       "    </tr>\n",
       "    <tr>\n",
       "      <th>4</th>\n",
       "      <td>11th &amp; San Jacinto</td>\n",
       "      <td>121596</td>\n",
       "    </tr>\n",
       "    <tr>\n",
       "      <th>...</th>\n",
       "      <td>...</td>\n",
       "      <td>...</td>\n",
       "    </tr>\n",
       "    <tr>\n",
       "      <th>191</th>\n",
       "      <td>West &amp; 6th St.</td>\n",
       "      <td>410096</td>\n",
       "    </tr>\n",
       "    <tr>\n",
       "      <th>192</th>\n",
       "      <td>Zilker Park</td>\n",
       "      <td>1210614</td>\n",
       "    </tr>\n",
       "    <tr>\n",
       "      <th>193</th>\n",
       "      <td>Zilker Park West</td>\n",
       "      <td>36976</td>\n",
       "    </tr>\n",
       "    <tr>\n",
       "      <th>194</th>\n",
       "      <td>Zilker Park at Barton Springs &amp; William Barton...</td>\n",
       "      <td>418596</td>\n",
       "    </tr>\n",
       "    <tr>\n",
       "      <th>195</th>\n",
       "      <td>cesar Chavez/Congress</td>\n",
       "      <td>114</td>\n",
       "    </tr>\n",
       "  </tbody>\n",
       "</table>\n",
       "<p>196 rows × 2 columns</p>\n",
       "</div>"
      ],
      "text/plain": [
       "                                    start_station_name  total_duration\n",
       "0                                     10th & Red River           16388\n",
       "1                                       10th/Red River           16865\n",
       "2                                        11th & Salina           28103\n",
       "3                                       11th & Salina            53781\n",
       "4                                   11th & San Jacinto          121596\n",
       "..                                                 ...             ...\n",
       "191                                     West & 6th St.          410096\n",
       "192                                        Zilker Park         1210614\n",
       "193                                   Zilker Park West           36976\n",
       "194  Zilker Park at Barton Springs & William Barton...          418596\n",
       "195                              cesar Chavez/Congress             114\n",
       "\n",
       "[196 rows x 2 columns]"
      ]
     },
     "execution_count": 71,
     "metadata": {},
     "output_type": "execute_result"
    }
   ],
   "source": [
    "get_total_duration(conn)"
   ]
  },
  {
   "cell_type": "markdown",
   "id": "78c197c1",
   "metadata": {},
   "source": [
    "**/trips/max_duration**"
   ]
  },
  {
   "cell_type": "markdown",
   "id": "1f709c2d",
   "metadata": {},
   "source": [
    "```python\n",
    "@app.route('/trips/max_duration')\n",
    "def route_max_duration():\n",
    "    conn=make_connection()\n",
    "    trips=get_max_duration(conn)\n",
    "    return trips.to_json()\n",
    "```"
   ]
  },
  {
   "cell_type": "code",
   "execution_count": 72,
   "id": "f68ebd16",
   "metadata": {},
   "outputs": [],
   "source": [
    "def get_max_duration(conn):\n",
    "    query=f\"\"\"SELECT start_station_name,max(duration_minutes) as max_duration\n",
    "    from trips \n",
    "    group by start_station_name\"\"\"\n",
    "    result=pd.read_sql_query(query,conn)\n",
    "    return result"
   ]
  },
  {
   "cell_type": "code",
   "execution_count": 73,
   "id": "a4c01f1d",
   "metadata": {
    "scrolled": true
   },
   "outputs": [
    {
     "data": {
      "text/html": [
       "<div>\n",
       "<style scoped>\n",
       "    .dataframe tbody tr th:only-of-type {\n",
       "        vertical-align: middle;\n",
       "    }\n",
       "\n",
       "    .dataframe tbody tr th {\n",
       "        vertical-align: top;\n",
       "    }\n",
       "\n",
       "    .dataframe thead th {\n",
       "        text-align: right;\n",
       "    }\n",
       "</style>\n",
       "<table border=\"1\" class=\"dataframe\">\n",
       "  <thead>\n",
       "    <tr style=\"text-align: right;\">\n",
       "      <th></th>\n",
       "      <th>start_station_name</th>\n",
       "      <th>max_duration</th>\n",
       "    </tr>\n",
       "  </thead>\n",
       "  <tbody>\n",
       "    <tr>\n",
       "      <th>0</th>\n",
       "      <td>10th &amp; Red River</td>\n",
       "      <td>2863</td>\n",
       "    </tr>\n",
       "    <tr>\n",
       "      <th>1</th>\n",
       "      <td>10th/Red River</td>\n",
       "      <td>1728</td>\n",
       "    </tr>\n",
       "    <tr>\n",
       "      <th>2</th>\n",
       "      <td>11th &amp; Salina</td>\n",
       "      <td>2369</td>\n",
       "    </tr>\n",
       "    <tr>\n",
       "      <th>3</th>\n",
       "      <td>11th &amp; Salina</td>\n",
       "      <td>6005</td>\n",
       "    </tr>\n",
       "    <tr>\n",
       "      <th>4</th>\n",
       "      <td>11th &amp; San Jacinto</td>\n",
       "      <td>3632</td>\n",
       "    </tr>\n",
       "    <tr>\n",
       "      <th>...</th>\n",
       "      <td>...</td>\n",
       "      <td>...</td>\n",
       "    </tr>\n",
       "    <tr>\n",
       "      <th>191</th>\n",
       "      <td>West &amp; 6th St.</td>\n",
       "      <td>10981</td>\n",
       "    </tr>\n",
       "    <tr>\n",
       "      <th>192</th>\n",
       "      <td>Zilker Park</td>\n",
       "      <td>4036</td>\n",
       "    </tr>\n",
       "    <tr>\n",
       "      <th>193</th>\n",
       "      <td>Zilker Park West</td>\n",
       "      <td>1044</td>\n",
       "    </tr>\n",
       "    <tr>\n",
       "      <th>194</th>\n",
       "      <td>Zilker Park at Barton Springs &amp; William Barton...</td>\n",
       "      <td>1451</td>\n",
       "    </tr>\n",
       "    <tr>\n",
       "      <th>195</th>\n",
       "      <td>cesar Chavez/Congress</td>\n",
       "      <td>114</td>\n",
       "    </tr>\n",
       "  </tbody>\n",
       "</table>\n",
       "<p>196 rows × 2 columns</p>\n",
       "</div>"
      ],
      "text/plain": [
       "                                    start_station_name  max_duration\n",
       "0                                     10th & Red River          2863\n",
       "1                                       10th/Red River          1728\n",
       "2                                        11th & Salina          2369\n",
       "3                                       11th & Salina           6005\n",
       "4                                   11th & San Jacinto          3632\n",
       "..                                                 ...           ...\n",
       "191                                     West & 6th St.         10981\n",
       "192                                        Zilker Park          4036\n",
       "193                                   Zilker Park West          1044\n",
       "194  Zilker Park at Barton Springs & William Barton...          1451\n",
       "195                              cesar Chavez/Congress           114\n",
       "\n",
       "[196 rows x 2 columns]"
      ]
     },
     "execution_count": 73,
     "metadata": {},
     "output_type": "execute_result"
    }
   ],
   "source": [
    "get_max_duration(conn)"
   ]
  },
  {
   "cell_type": "markdown",
   "id": "3f1c8d87-b066-48dc-b9db-2339aa3693db",
   "metadata": {},
   "source": [
    "## Create Dynamic Endpoints "
   ]
  },
  {
   "cell_type": "markdown",
   "id": "46eecec9-49c8-4c02-835a-cb4a813c41ad",
   "metadata": {},
   "source": [
    "You can use the following cell to try-out your function before implementing it as an endpoint"
   ]
  },
  {
   "cell_type": "markdown",
   "id": "9f49812d",
   "metadata": {},
   "source": [
    "**/trips/average_duration/{bikeid}**"
   ]
  },
  {
   "cell_type": "markdown",
   "id": "f6df9141",
   "metadata": {},
   "source": [
    "```python\n",
    "@app.route('/trips/average_duration/<bikeid>')\n",
    "def route_average_duration_bikeid(bikeid):\n",
    "    conn=make_connection()\n",
    "    trips=get_average_duration_bikeid(bikeid,conn)\n",
    "    return trips.to_json()\n",
    "```"
   ]
  },
  {
   "cell_type": "code",
   "execution_count": 74,
   "id": "51632154",
   "metadata": {},
   "outputs": [
    {
     "data": {
      "text/plain": [
       "trip_id                 int64\n",
       "subscriber_type        object\n",
       "bikeid                 object\n",
       "start_time             object\n",
       "start_station_id      float64\n",
       "start_station_name     object\n",
       "end_station_id        float64\n",
       "end_station_name       object\n",
       "duration_minutes        int64\n",
       "dtype: object"
      ]
     },
     "execution_count": 74,
     "metadata": {},
     "output_type": "execute_result"
    }
   ],
   "source": [
    "trips.dtypes"
   ]
  },
  {
   "cell_type": "code",
   "execution_count": 75,
   "id": "70db3c33",
   "metadata": {},
   "outputs": [],
   "source": [
    "trips['bikeid']=trips['bikeid'].str.replace('G','7')\n",
    "trips['bikeid']=trips['bikeid'].str.replace('B','2')"
   ]
  },
  {
   "cell_type": "code",
   "execution_count": 76,
   "id": "1053f8b4",
   "metadata": {},
   "outputs": [],
   "source": [
    "trips['bikeid'] = trips['bikeid'].astype('int64')"
   ]
  },
  {
   "cell_type": "code",
   "execution_count": 77,
   "id": "6c2ef406",
   "metadata": {},
   "outputs": [
    {
     "data": {
      "text/plain": [
       "trip_id                 int64\n",
       "subscriber_type        object\n",
       "bikeid                  int64\n",
       "start_time             object\n",
       "start_station_id      float64\n",
       "start_station_name     object\n",
       "end_station_id        float64\n",
       "end_station_name       object\n",
       "duration_minutes        int64\n",
       "dtype: object"
      ]
     },
     "execution_count": 77,
     "metadata": {},
     "output_type": "execute_result"
    }
   ],
   "source": [
    "trips.dtypes"
   ]
  },
  {
   "cell_type": "code",
   "execution_count": 78,
   "id": "a3a4dd02",
   "metadata": {},
   "outputs": [],
   "source": [
    "def get_average_duration_bikeid(bikeid,conn):\n",
    "    query=f\"\"\"SELECT bikeid, avg(duration_minutes) as average_duration\n",
    "    from trips \n",
    "    WHERE bikeid = {bikeid}\n",
    "    \"\"\"\n",
    "    result=pd.read_sql_query(query,conn)\n",
    "    return result"
   ]
  },
  {
   "cell_type": "code",
   "execution_count": 79,
   "id": "17010482",
   "metadata": {},
   "outputs": [
    {
     "data": {
      "text/html": [
       "<div>\n",
       "<style scoped>\n",
       "    .dataframe tbody tr th:only-of-type {\n",
       "        vertical-align: middle;\n",
       "    }\n",
       "\n",
       "    .dataframe tbody tr th {\n",
       "        vertical-align: top;\n",
       "    }\n",
       "\n",
       "    .dataframe thead th {\n",
       "        text-align: right;\n",
       "    }\n",
       "</style>\n",
       "<table border=\"1\" class=\"dataframe\">\n",
       "  <thead>\n",
       "    <tr style=\"text-align: right;\">\n",
       "      <th></th>\n",
       "      <th>bikeid</th>\n",
       "      <th>average_duration</th>\n",
       "    </tr>\n",
       "  </thead>\n",
       "  <tbody>\n",
       "    <tr>\n",
       "      <th>0</th>\n",
       "      <td>884</td>\n",
       "      <td>27.156502</td>\n",
       "    </tr>\n",
       "  </tbody>\n",
       "</table>\n",
       "</div>"
      ],
      "text/plain": [
       "  bikeid  average_duration\n",
       "0    884         27.156502"
      ]
     },
     "execution_count": 79,
     "metadata": {},
     "output_type": "execute_result"
    }
   ],
   "source": [
    "get_average_duration_bikeid(\"884\",conn)"
   ]
  },
  {
   "cell_type": "markdown",
   "id": "fcb07f50",
   "metadata": {},
   "source": [
    "**/trips/total_duration/{bikeid}**"
   ]
  },
  {
   "cell_type": "markdown",
   "id": "6ef1c17c",
   "metadata": {},
   "source": [
    "```python\n",
    "@app.route('/trips/total_duration/<bikeid>')\n",
    "def route_total_duration_bikeid(bikeid):\n",
    "    conn=make_connection()\n",
    "    trips=get_total_duration_bikeid(bikeid,conn)\n",
    "    return trips.to_json()\n",
    "```"
   ]
  },
  {
   "cell_type": "code",
   "execution_count": 80,
   "id": "8beb0f82",
   "metadata": {},
   "outputs": [],
   "source": [
    "def get_total_duration_bikeid(bikeid,conn):\n",
    "    query=f\"\"\"SELECT bikeid, sum(duration_minutes) as total_duration\n",
    "    from trips \n",
    "    WHERE bikeid = {bikeid}\n",
    "    \"\"\"\n",
    "    result=pd.read_sql_query(query,conn)\n",
    "    return result"
   ]
  },
  {
   "cell_type": "code",
   "execution_count": 81,
   "id": "12694474",
   "metadata": {},
   "outputs": [
    {
     "data": {
      "text/html": [
       "<div>\n",
       "<style scoped>\n",
       "    .dataframe tbody tr th:only-of-type {\n",
       "        vertical-align: middle;\n",
       "    }\n",
       "\n",
       "    .dataframe tbody tr th {\n",
       "        vertical-align: top;\n",
       "    }\n",
       "\n",
       "    .dataframe thead th {\n",
       "        text-align: right;\n",
       "    }\n",
       "</style>\n",
       "<table border=\"1\" class=\"dataframe\">\n",
       "  <thead>\n",
       "    <tr style=\"text-align: right;\">\n",
       "      <th></th>\n",
       "      <th>bikeid</th>\n",
       "      <th>total_duration</th>\n",
       "    </tr>\n",
       "  </thead>\n",
       "  <tbody>\n",
       "    <tr>\n",
       "      <th>0</th>\n",
       "      <td>884</td>\n",
       "      <td>70797</td>\n",
       "    </tr>\n",
       "  </tbody>\n",
       "</table>\n",
       "</div>"
      ],
      "text/plain": [
       "  bikeid  total_duration\n",
       "0    884           70797"
      ]
     },
     "execution_count": 81,
     "metadata": {},
     "output_type": "execute_result"
    }
   ],
   "source": [
    "get_total_duration_bikeid(\"884\",conn)"
   ]
  },
  {
   "cell_type": "markdown",
   "id": "c2c84742",
   "metadata": {},
   "source": [
    "**/trips/max_duration/{bikeid}**"
   ]
  },
  {
   "cell_type": "markdown",
   "id": "d93da04b",
   "metadata": {},
   "source": [
    "```python\n",
    "@app.route('/trips/max_duration/<bikeid>')\n",
    "def route_max_duration_bikeid(bikeid):\n",
    "    conn=make_connection()\n",
    "    trips=get_max_duration_bikeid(bikeid,conn)\n",
    "    return trips.to_json()\n",
    "```"
   ]
  },
  {
   "cell_type": "code",
   "execution_count": 82,
   "id": "64422ec9",
   "metadata": {},
   "outputs": [],
   "source": [
    "def get_max_duration_bikeid(bikeid,conn):\n",
    "    query=f\"\"\"SELECT bikeid, max(duration_minutes) as max_duration\n",
    "    from trips \n",
    "    WHERE bikeid = {bikeid}\n",
    "    \"\"\"\n",
    "    result=pd.read_sql_query(query,conn)\n",
    "    return result"
   ]
  },
  {
   "cell_type": "code",
   "execution_count": 83,
   "id": "2baf4349",
   "metadata": {},
   "outputs": [
    {
     "data": {
      "text/html": [
       "<div>\n",
       "<style scoped>\n",
       "    .dataframe tbody tr th:only-of-type {\n",
       "        vertical-align: middle;\n",
       "    }\n",
       "\n",
       "    .dataframe tbody tr th {\n",
       "        vertical-align: top;\n",
       "    }\n",
       "\n",
       "    .dataframe thead th {\n",
       "        text-align: right;\n",
       "    }\n",
       "</style>\n",
       "<table border=\"1\" class=\"dataframe\">\n",
       "  <thead>\n",
       "    <tr style=\"text-align: right;\">\n",
       "      <th></th>\n",
       "      <th>bikeid</th>\n",
       "      <th>max_duration</th>\n",
       "    </tr>\n",
       "  </thead>\n",
       "  <tbody>\n",
       "    <tr>\n",
       "      <th>0</th>\n",
       "      <td>884</td>\n",
       "      <td>1942</td>\n",
       "    </tr>\n",
       "  </tbody>\n",
       "</table>\n",
       "</div>"
      ],
      "text/plain": [
       "  bikeid  max_duration\n",
       "0    884          1942"
      ]
     },
     "execution_count": 83,
     "metadata": {},
     "output_type": "execute_result"
    }
   ],
   "source": [
    "get_max_duration_bikeid(\"884\",conn)"
   ]
  },
  {
   "cell_type": "markdown",
   "id": "712aeb14-8f96-4df5-a2eb-5a42e083dddc",
   "metadata": {},
   "source": [
    "## Create POST Endpoints"
   ]
  },
  {
   "cell_type": "markdown",
   "id": "d518c6a2-6fc7-4eb0-91a7-c7ba25db5bce",
   "metadata": {},
   "source": [
    "You can use the following cell to try-out your function before implementing it as an endpoint.\n",
    "\n",
    "If you still find it quite difficult, here's an example case you might wanted to try on:\n",
    "- input : a dictionary contained a datetime period\n",
    "    - { \"period\" : \"2015-08\" }\n",
    "- output:\n",
    "    - Aggregation table of bike rent activities for each station in that specific period\n",
    "- example code: \n",
    "\n",
    "```python \n",
    "input_data = request.get_json() # Get the input as dictionary\n",
    "specified_date = input_data['period'] # Select specific items (period) from the dictionary (the value will be \"2015-08\")\n",
    "\n",
    "# Subset the data with query \n",
    "conn = make_connection()\n",
    "query = f\"SELECT * FROM stations WHERE start_time LIKE ({'\"'+specified_date+'%'+'\"'})\"\n",
    "selected_data = pd.read_sql_query(query, conn)\n",
    "\n",
    "# Make the aggregate\n",
    "result = selected_data.groupby('start_station_id').agg({\n",
    "    'bikeid' : 'count', \n",
    "    'duration_minutes' : 'mean'\n",
    "})\n",
    "\n",
    "# Return the result\n",
    "return result.to_json()\n",
    "\n",
    "```"
   ]
  },
  {
   "cell_type": "markdown",
   "id": "794be4b0",
   "metadata": {},
   "source": [
    "**In Visual Studio Code:**"
   ]
  },
  {
   "cell_type": "markdown",
   "id": "a89f6c68",
   "metadata": {},
   "source": [
    "```python\n",
    "@app.route('/rent_activities_in_period', methods=['POST'])\n",
    "def route_rent_activities_in_period():\n",
    "    input_data = request.get_json(force=True)\n",
    "    specified_date = input_data['period']\n",
    "\n",
    "    conn = make_connection()\n",
    "    query = f\"\"\"\n",
    "    SELECT * FROM trips\n",
    "    WHERE start_time LIKE ({'\"'+specified_date+'%'+'\"'})\"\"\"\n",
    "    \n",
    "    selected_data = pd.read_sql_query(query, conn)\n",
    "    result = selected_data.groupby('start_station_id').agg({\n",
    "        'bikeid' : 'count', \n",
    "        'duration_minutes' : 'mean'\n",
    "    })\n",
    "\n",
    "    return result.to_json()\n",
    "```"
   ]
  },
  {
   "cell_type": "code",
   "execution_count": 84,
   "id": "bacbce85",
   "metadata": {
    "scrolled": true
   },
   "outputs": [
    {
     "data": {
      "text/html": [
       "<div>\n",
       "<style scoped>\n",
       "    .dataframe tbody tr th:only-of-type {\n",
       "        vertical-align: middle;\n",
       "    }\n",
       "\n",
       "    .dataframe tbody tr th {\n",
       "        vertical-align: top;\n",
       "    }\n",
       "\n",
       "    .dataframe thead th {\n",
       "        text-align: right;\n",
       "    }\n",
       "</style>\n",
       "<table border=\"1\" class=\"dataframe\">\n",
       "  <thead>\n",
       "    <tr style=\"text-align: right;\">\n",
       "      <th></th>\n",
       "      <th>trip_id</th>\n",
       "      <th>subscriber_type</th>\n",
       "      <th>bikeid</th>\n",
       "      <th>start_time</th>\n",
       "      <th>start_station_id</th>\n",
       "      <th>start_station_name</th>\n",
       "      <th>end_station_id</th>\n",
       "      <th>end_station_name</th>\n",
       "      <th>duration_minutes</th>\n",
       "    </tr>\n",
       "  </thead>\n",
       "  <tbody>\n",
       "    <tr>\n",
       "      <th>0</th>\n",
       "      <td>23455589</td>\n",
       "      <td>Local365</td>\n",
       "      <td>174</td>\n",
       "      <td>2021-01-26 17:47:42 UTC</td>\n",
       "      <td>4059.0</td>\n",
       "      <td>Nash Hernandez/East @ RBJ South</td>\n",
       "      <td>3660.0</td>\n",
       "      <td>East 6th/Medina</td>\n",
       "      <td>7</td>\n",
       "    </tr>\n",
       "    <tr>\n",
       "      <th>1</th>\n",
       "      <td>23459960</td>\n",
       "      <td>Local365</td>\n",
       "      <td>19265</td>\n",
       "      <td>2021-01-28 08:03:52 UTC</td>\n",
       "      <td>4054.0</td>\n",
       "      <td>Rosewood/Chicon</td>\n",
       "      <td>4055.0</td>\n",
       "      <td>11th/Salina</td>\n",
       "      <td>16</td>\n",
       "    </tr>\n",
       "    <tr>\n",
       "      <th>2</th>\n",
       "      <td>23436548</td>\n",
       "      <td>Local365</td>\n",
       "      <td>18331</td>\n",
       "      <td>2021-01-21 07:09:48 UTC</td>\n",
       "      <td>4055.0</td>\n",
       "      <td>11th/Salina</td>\n",
       "      <td>4055.0</td>\n",
       "      <td>11th/Salina</td>\n",
       "      <td>25</td>\n",
       "    </tr>\n",
       "    <tr>\n",
       "      <th>3</th>\n",
       "      <td>23382542</td>\n",
       "      <td>Local365</td>\n",
       "      <td>19682</td>\n",
       "      <td>2021-01-04 09:38:18 UTC</td>\n",
       "      <td>4062.0</td>\n",
       "      <td>Lakeshore/Pleasant Valley</td>\n",
       "      <td>3293.0</td>\n",
       "      <td>East 2nd/Pedernales</td>\n",
       "      <td>5</td>\n",
       "    </tr>\n",
       "    <tr>\n",
       "      <th>4</th>\n",
       "      <td>23374882</td>\n",
       "      <td>Local365</td>\n",
       "      <td>19437</td>\n",
       "      <td>2021-01-02 15:04:01 UTC</td>\n",
       "      <td>3293.0</td>\n",
       "      <td>East 2nd/Pedernales</td>\n",
       "      <td>4062.0</td>\n",
       "      <td>Lakeshore/Pleasant Valley</td>\n",
       "      <td>5</td>\n",
       "    </tr>\n",
       "  </tbody>\n",
       "</table>\n",
       "</div>"
      ],
      "text/plain": [
       "    trip_id subscriber_type  bikeid               start_time  \\\n",
       "0  23455589        Local365     174  2021-01-26 17:47:42 UTC   \n",
       "1  23459960        Local365   19265  2021-01-28 08:03:52 UTC   \n",
       "2  23436548        Local365   18331  2021-01-21 07:09:48 UTC   \n",
       "3  23382542        Local365   19682  2021-01-04 09:38:18 UTC   \n",
       "4  23374882        Local365   19437  2021-01-02 15:04:01 UTC   \n",
       "\n",
       "   start_station_id               start_station_name  end_station_id  \\\n",
       "0            4059.0  Nash Hernandez/East @ RBJ South          3660.0   \n",
       "1            4054.0                  Rosewood/Chicon          4055.0   \n",
       "2            4055.0                     11th/Salina           4055.0   \n",
       "3            4062.0        Lakeshore/Pleasant Valley          3293.0   \n",
       "4            3293.0              East 2nd/Pedernales          4062.0   \n",
       "\n",
       "            end_station_name  duration_minutes  \n",
       "0            East 6th/Medina                 7  \n",
       "1               11th/Salina                 16  \n",
       "2               11th/Salina                 25  \n",
       "3        East 2nd/Pedernales                 5  \n",
       "4  Lakeshore/Pleasant Valley                 5  "
      ]
     },
     "execution_count": 84,
     "metadata": {},
     "output_type": "execute_result"
    }
   ],
   "source": [
    "trips.head()"
   ]
  },
  {
   "cell_type": "code",
   "execution_count": 102,
   "id": "fa000eb0",
   "metadata": {},
   "outputs": [],
   "source": [
    "trips['start_time'] = trips['start_time'].astype('datetime64[ns]')"
   ]
  },
  {
   "cell_type": "code",
   "execution_count": 88,
   "id": "6748b2df",
   "metadata": {},
   "outputs": [],
   "source": [
    "trips['start_time'] = trips['start_time'].dt.tz_localize(None)"
   ]
  },
  {
   "cell_type": "code",
   "execution_count": 89,
   "id": "83eb91b8",
   "metadata": {},
   "outputs": [
    {
     "data": {
      "text/html": [
       "<div>\n",
       "<style scoped>\n",
       "    .dataframe tbody tr th:only-of-type {\n",
       "        vertical-align: middle;\n",
       "    }\n",
       "\n",
       "    .dataframe tbody tr th {\n",
       "        vertical-align: top;\n",
       "    }\n",
       "\n",
       "    .dataframe thead th {\n",
       "        text-align: right;\n",
       "    }\n",
       "</style>\n",
       "<table border=\"1\" class=\"dataframe\">\n",
       "  <thead>\n",
       "    <tr style=\"text-align: right;\">\n",
       "      <th></th>\n",
       "      <th>trip_id</th>\n",
       "      <th>subscriber_type</th>\n",
       "      <th>bikeid</th>\n",
       "      <th>start_time</th>\n",
       "      <th>start_station_id</th>\n",
       "      <th>start_station_name</th>\n",
       "      <th>end_station_id</th>\n",
       "      <th>end_station_name</th>\n",
       "      <th>duration_minutes</th>\n",
       "    </tr>\n",
       "  </thead>\n",
       "  <tbody>\n",
       "    <tr>\n",
       "      <th>0</th>\n",
       "      <td>23455589</td>\n",
       "      <td>Local365</td>\n",
       "      <td>174</td>\n",
       "      <td>2021-01-26 17:47:42</td>\n",
       "      <td>4059.0</td>\n",
       "      <td>Nash Hernandez/East @ RBJ South</td>\n",
       "      <td>3660.0</td>\n",
       "      <td>East 6th/Medina</td>\n",
       "      <td>7</td>\n",
       "    </tr>\n",
       "    <tr>\n",
       "      <th>1</th>\n",
       "      <td>23459960</td>\n",
       "      <td>Local365</td>\n",
       "      <td>19265</td>\n",
       "      <td>2021-01-28 08:03:52</td>\n",
       "      <td>4054.0</td>\n",
       "      <td>Rosewood/Chicon</td>\n",
       "      <td>4055.0</td>\n",
       "      <td>11th/Salina</td>\n",
       "      <td>16</td>\n",
       "    </tr>\n",
       "    <tr>\n",
       "      <th>2</th>\n",
       "      <td>23436548</td>\n",
       "      <td>Local365</td>\n",
       "      <td>18331</td>\n",
       "      <td>2021-01-21 07:09:48</td>\n",
       "      <td>4055.0</td>\n",
       "      <td>11th/Salina</td>\n",
       "      <td>4055.0</td>\n",
       "      <td>11th/Salina</td>\n",
       "      <td>25</td>\n",
       "    </tr>\n",
       "    <tr>\n",
       "      <th>3</th>\n",
       "      <td>23382542</td>\n",
       "      <td>Local365</td>\n",
       "      <td>19682</td>\n",
       "      <td>2021-01-04 09:38:18</td>\n",
       "      <td>4062.0</td>\n",
       "      <td>Lakeshore/Pleasant Valley</td>\n",
       "      <td>3293.0</td>\n",
       "      <td>East 2nd/Pedernales</td>\n",
       "      <td>5</td>\n",
       "    </tr>\n",
       "    <tr>\n",
       "      <th>4</th>\n",
       "      <td>23374882</td>\n",
       "      <td>Local365</td>\n",
       "      <td>19437</td>\n",
       "      <td>2021-01-02 15:04:01</td>\n",
       "      <td>3293.0</td>\n",
       "      <td>East 2nd/Pedernales</td>\n",
       "      <td>4062.0</td>\n",
       "      <td>Lakeshore/Pleasant Valley</td>\n",
       "      <td>5</td>\n",
       "    </tr>\n",
       "  </tbody>\n",
       "</table>\n",
       "</div>"
      ],
      "text/plain": [
       "    trip_id subscriber_type  bikeid          start_time  start_station_id  \\\n",
       "0  23455589        Local365     174 2021-01-26 17:47:42            4059.0   \n",
       "1  23459960        Local365   19265 2021-01-28 08:03:52            4054.0   \n",
       "2  23436548        Local365   18331 2021-01-21 07:09:48            4055.0   \n",
       "3  23382542        Local365   19682 2021-01-04 09:38:18            4062.0   \n",
       "4  23374882        Local365   19437 2021-01-02 15:04:01            3293.0   \n",
       "\n",
       "                start_station_name  end_station_id           end_station_name  \\\n",
       "0  Nash Hernandez/East @ RBJ South          3660.0            East 6th/Medina   \n",
       "1                  Rosewood/Chicon          4055.0               11th/Salina    \n",
       "2                     11th/Salina           4055.0               11th/Salina    \n",
       "3        Lakeshore/Pleasant Valley          3293.0        East 2nd/Pedernales   \n",
       "4              East 2nd/Pedernales          4062.0  Lakeshore/Pleasant Valley   \n",
       "\n",
       "   duration_minutes  \n",
       "0                 7  \n",
       "1                16  \n",
       "2                25  \n",
       "3                 5  \n",
       "4                 5  "
      ]
     },
     "execution_count": 89,
     "metadata": {},
     "output_type": "execute_result"
    }
   ],
   "source": [
    "trips.head()"
   ]
  },
  {
   "cell_type": "code",
   "execution_count": 113,
   "id": "ea88b132",
   "metadata": {},
   "outputs": [],
   "source": [
    "period = { \"period\" : \"2021-01\" }\n",
    "\n",
    "url = \"http://127.0.0.1:5001/rent_activities_in_period\"\n",
    "\n",
    "res = requests.post(url, json=period)"
   ]
  },
  {
   "cell_type": "code",
   "execution_count": 114,
   "id": "2c8fe896",
   "metadata": {},
   "outputs": [
    {
     "data": {
      "text/plain": [
       "<Response [200]>"
      ]
     },
     "execution_count": 114,
     "metadata": {},
     "output_type": "execute_result"
    }
   ],
   "source": [
    "res"
   ]
  },
  {
   "cell_type": "code",
   "execution_count": 115,
   "id": "ef54f48d",
   "metadata": {},
   "outputs": [
    {
     "data": {
      "text/plain": [
       "'{\"bikeid\":{\"2494\":148,\"2495\":89,\"2496\":71,\"2497\":151,\"2498\":172,\"2499\":105,\"2501\":243,\"2503\":70,\"2504\":57,\"2537\":78,\"2539\":319,\"2542\":104,\"2544\":81,\"2547\":246,\"2548\":495,\"2549\":196,\"2552\":284,\"2561\":63,\"2562\":30,\"2563\":161,\"2565\":36,\"2566\":295,\"2567\":184,\"2568\":58,\"2569\":110,\"2570\":45,\"2571\":55,\"2572\":116,\"2574\":264,\"2575\":324,\"2707\":341,\"2711\":118,\"2822\":37,\"2823\":58,\"3291\":137,\"3292\":55,\"3293\":55,\"3294\":18,\"3377\":350,\"3390\":88,\"3455\":109,\"3513\":172,\"3619\":156,\"3621\":153,\"3660\":115,\"3684\":68,\"3685\":89,\"3686\":129,\"3687\":215,\"3790\":103,\"3791\":74,\"3792\":206,\"3793\":337,\"3794\":70,\"3795\":154,\"3797\":108,\"3798\":331,\"3799\":258,\"3838\":209,\"3841\":314,\"4047\":58,\"4048\":129,\"4050\":81,\"4051\":15,\"4052\":46,\"4054\":44,\"4055\":32,\"4057\":64,\"4058\":30,\"4059\":168,\"4060\":54,\"4061\":329,\"4062\":227,\"4699\":17,\"4879\":16},\"duration_minutes\":{\"2494\":34.5810810811,\"2495\":118.404494382,\"2496\":60.1549295775,\"2497\":27.8013245033,\"2498\":17.9534883721,\"2499\":24.4571428571,\"2501\":37.1522633745,\"2503\":38.6142857143,\"2504\":33.2280701754,\"2537\":50.1794871795,\"2539\":29.8777429467,\"2542\":40.6826923077,\"2544\":38.1234567901,\"2547\":30.1219512195,\"2548\":33.1414141414,\"2549\":54.8673469388,\"2552\":24.5528169014,\"2561\":30.8571428571,\"2562\":37.0333333333,\"2563\":38.8074534161,\"2565\":19.3611111111,\"2566\":39.8847457627,\"2567\":40.6684782609,\"2568\":30.775862069,\"2569\":17.9181818182,\"2570\":25.1555555556,\"2571\":40.1272727273,\"2572\":41.9827586207,\"2574\":51.1477272727,\"2575\":41.8364197531,\"2707\":41.1114369501,\"2711\":35.1440677966,\"2822\":26.0,\"2823\":35.5689655172,\"3291\":29.4890510949,\"3292\":68.4181818182,\"3293\":38.9636363636,\"3294\":62.7222222222,\"3377\":42.34,\"3390\":18.125,\"3455\":35.5779816514,\"3513\":40.9476744186,\"3619\":19.4423076923,\"3621\":32.7450980392,\"3660\":31.8956521739,\"3684\":32.5588235294,\"3685\":23.8988764045,\"3686\":41.3410852713,\"3687\":40.976744186,\"3790\":27.3883495146,\"3791\":40.1216216216,\"3792\":23.3689320388,\"3793\":22.2462908012,\"3794\":59.0571428571,\"3795\":27.8441558442,\"3797\":26.1759259259,\"3798\":23.9395770393,\"3799\":29.2325581395,\"3838\":27.4641148325,\"3841\":22.4585987261,\"4047\":20.8620689655,\"4048\":23.7984496124,\"4050\":41.962962963,\"4051\":24.1333333333,\"4052\":30.2608695652,\"4054\":32.3636363636,\"4055\":29.78125,\"4057\":26.15625,\"4058\":27.4666666667,\"4059\":47.7142857143,\"4060\":33.0925925926,\"4061\":46.9878419453,\"4062\":57.550660793,\"4699\":62.8823529412,\"4879\":94.3125}}'"
      ]
     },
     "execution_count": 115,
     "metadata": {},
     "output_type": "execute_result"
    }
   ],
   "source": [
    "res.text"
   ]
  },
  {
   "cell_type": "markdown",
   "id": "46bbfb18",
   "metadata": {},
   "source": [
    "# Submission\n",
    "\n",
    "After finishing your work of all the rubrics, the next step will be;\n",
    "\n",
    "1. Prepare your `Bikeshare API.ipynb` file that has been edited with your code and wrangling data.\n",
    "2. Prepare your `app.py` file for your Flask App. \n",
    "3. Submit your .ipynb and app.py file in your github repository. The dataset is optional to post since it has big size to post. \n",
    "\n"
   ]
  }
 ],
 "metadata": {
  "kernelspec": {
   "display_name": "Python 3 (ipykernel)",
   "language": "python",
   "name": "python3"
  },
  "language_info": {
   "codemirror_mode": {
    "name": "ipython",
    "version": 3
   },
   "file_extension": ".py",
   "mimetype": "text/x-python",
   "name": "python",
   "nbconvert_exporter": "python",
   "pygments_lexer": "ipython3",
   "version": "3.9.12"
  },
  "toc": {
   "base_numbering": 1,
   "nav_menu": {},
   "number_sections": true,
   "sideBar": true,
   "skip_h1_title": false,
   "title_cell": "Table of Contents",
   "title_sidebar": "Contents",
   "toc_cell": false,
   "toc_position": {},
   "toc_section_display": true,
   "toc_window_display": false
  },
  "toc-autonumbering": true
 },
 "nbformat": 4,
 "nbformat_minor": 5
}
